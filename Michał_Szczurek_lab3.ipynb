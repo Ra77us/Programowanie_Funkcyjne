{
 "cells": [
  {
   "cell_type": "markdown",
   "metadata": {},
   "source": [
    "Michał Szczurek"
   ]
  },
  {
   "cell_type": "code",
   "execution_count": null,
   "metadata": {},
   "outputs": [],
   "source": [
    ":t (\\x -> \\y -> x + y)\n",
    ":t (\\x y -> x + y) -- porównujemy wynik z poprzednim\n",
    "\n",
    ":t (\\x -> \\y -> x + y) 1\n",
    ":t (\\x y -> x + y) 1 -- porównujemy wynik z poprzednim\n",
    "\n",
    ":t (\\x -> \\y -> x + y) 1 2\n",
    ":t (\\x y -> x + y) 1 2 -- porównujemy wynik z poprzednim\n",
    "\n",
    "(\\x -> \\y -> x + y) 1 2\n",
    "(\\x y -> x + y) 1 2 -- porównujemy wynik z poprzednim\n",
    "\n",
    "let f1 = \\x -> \\y -> x + y\n",
    ":t f1\n",
    "f1 1 2\n",
    "\n",
    "let f2 = \\x y -> x + y\n",
    ":t f2 -- porównujemy z wynikiem dla f1\n",
    "f2 1 2 -- porównujemy z wynikiem dla f1\n",
    "\n",
    "let f3 x = \\y -> x + y\n",
    ":t f3 -- porównujemy z wynikami dla f1 i f2\n",
    "f3 1 2 -- porównujemy z wynikami dla f1 i f2\n",
    "\n",
    "let f4 x y = x + y\n",
    ":t f4 -- porównujemy z wynikami dla f1, f2 i f3\n",
    "f4 1 2 -- porównujemy z wynikami dla f1, f2 i f3\n",
    "\n",
    "let f5 = \\(x,y) -> x + y\n",
    ":t f5 -- porównujemy z wynikami dla f1, ... , f4\n",
    "\n",
    "f5 (1,2) -- porównujemy z wynikami dla f1, ... , f4\n",
    "\n",
    "let f6 (x,y) = x + y\n",
    ":t f6 -- porównujemy z wynikami dla f1, ... , f5\n",
    "f6 (1,2) -- porównujemy z wynikami dla f1, ... , f5\n",
    "\n",
    ":t (\\x y -> x + y) :: Int -> Int -> Int\n",
    ":t (\\x y -> x + y)\n",
    "((\\x y -> x + y) :: Int -> Int -> Int) 1 2"
   ]
  },
  {
   "cell_type": "markdown",
   "metadata": {},
   "source": [
    "1. Zadania"
   ]
  },
  {
   "cell_type": "code",
   "execution_count": null,
   "metadata": {},
   "outputs": [],
   "source": [
    "--1\n",
    "let f1 = \\x -> x - 2\n",
    "\n",
    "f1 4\n",
    "\n",
    "let f2 = \\x y -> sqrt(x**2 + y**2)\n",
    "\n",
    "f2 3 4\n",
    "\n",
    "let f3 = \\x y z -> sqrt(x**2 + y**2 + z**2)\n",
    "\n",
    "f3 1 2 3"
   ]
  },
  {
   "cell_type": "code",
   "execution_count": null,
   "metadata": {},
   "outputs": [],
   "source": [
    "--2 \n",
    "let f1 = \\x -> 2 * x\n",
    "let f2 = \\x -> x * 2\n",
    "let f3 = \\x -> 2^x\n",
    "let f4 = \\x -> x^2\n",
    "let f5 = \\x -> 2/x\n",
    "let f6 = \\x -> x/3\n",
    "let f7 = \\x -> 4 - x\n",
    "\n",
    "f1 3\n",
    "f2 3\n",
    "f3 3\n",
    "f4 3\n",
    "f5 3\n",
    "f6 3\n",
    "f7 3"
   ]
  },
  {
   "cell_type": "code",
   "execution_count": null,
   "metadata": {},
   "outputs": [],
   "source": [
    "--3\n",
    "--sqrt abs, log, id, const\n",
    "let sqrt' = \\x -> sqrt(x)\n",
    "let abs' = \\x -> if x < 0\n",
    "               then (-x)\n",
    "               else x\n",
    "\n",
    "let log' = \\x -> log x\n",
    "let id' = \\x -> x\n",
    "let const' = \\x -> 5\n",
    "sqrt' 25\n",
    "abs' 3\n",
    "abs' (-3)\n",
    "log' 12\n",
    "id'  123\n",
    "const' 12"
   ]
  },
  {
   "cell_type": "code",
   "execution_count": null,
   "metadata": {},
   "outputs": [],
   "source": [
    "--4\n",
    "f7 x = if x `mod` 2 == 0 then True else False\n",
    "let f7' = \\x -> x `mod` 2 == 0 \n",
    "\n",
    "f8 x = let y = sqrt x in 2 * y^3 * (y + 1)\n",
    "let f8'= \\x -> 2 * (sqrt(x))^3 * (sqrt(x)+1) \n",
    "\n",
    "f9 1 = 3\n",
    "f9 _ = 0\n",
    "let f9' = \\x -> if x == 1\n",
    "                then 3\n",
    "                else 0\n",
    "f7' 13\n",
    "f8' 4\n",
    "f8 4\n",
    "f9' 1\n",
    "f9' 2"
   ]
  },
  {
   "cell_type": "markdown",
   "metadata": {},
   "source": [
    "-------"
   ]
  },
  {
   "cell_type": "code",
   "execution_count": null,
   "metadata": {},
   "outputs": [],
   "source": [
    "sum' :: Num a => [a] -> a\n",
    "sum' []     = 0\n",
    "sum' (x:xs) = x + sum' xs"
   ]
  },
  {
   "cell_type": "markdown",
   "metadata": {},
   "source": [
    "2. Zadania"
   ]
  },
  {
   "cell_type": "code",
   "execution_count": null,
   "metadata": {},
   "outputs": [],
   "source": [
    "--1\n",
    "sumSqr' :: Num a => [a] -> a\n",
    "sumSqr' []   = 0\n",
    "sumSqr' (x:xs) = x^2 + sumSqr' xs\n",
    "\n",
    "sumSqr' [1,2,3]"
   ]
  },
  {
   "cell_type": "code",
   "execution_count": null,
   "metadata": {},
   "outputs": [],
   "source": [
    "-- 2\n",
    "sumWith :: Num a => (a -> a) -> [a] -> a\n",
    "sumWith f [] = 0\n",
    "sumWith f (x:xs) = f x + sumWith f xs\n",
    "\n",
    "sumWith (^3) [1,2,3]"
   ]
  },
  {
   "cell_type": "code",
   "execution_count": null,
   "metadata": {},
   "outputs": [],
   "source": [
    "-- 3\n",
    "sum'    = sumWith id\n",
    "sumSqr  = sumWith (^2)\n",
    "sumCube = sumWith (^3)\n",
    "sumAbs  = sumWith abs\n",
    "\n",
    "sum' [1,2,3]\n",
    "sumSqr [2,3]\n",
    "sumCube [1,2,3]\n",
    "sumAbs[-2,2,1]"
   ]
  },
  {
   "cell_type": "code",
   "execution_count": null,
   "metadata": {},
   "outputs": [],
   "source": [
    "--4\n",
    "sumWith (^5) [1..15]"
   ]
  },
  {
   "cell_type": "code",
   "execution_count": null,
   "metadata": {},
   "outputs": [],
   "source": [
    "--5\n",
    "listLength = sumWith (const 1)\n",
    "listLength [1..12]"
   ]
  },
  {
   "cell_type": "code",
   "execution_count": null,
   "metadata": {},
   "outputs": [],
   "source": [
    "--7\n",
    "prodWith :: Num a => (a -> a) -> [a] -> a\n",
    "prodWith f [] = 1 \n",
    "prodWith f (x:xs) = f x * prodWith f xs\n",
    "\n",
    "prod     = prodWith id\n",
    "prodSqr  = prodWith (^2)\n",
    "prodCube = prodWith (^3)\n",
    "prodAbs  = prodWith abs\n",
    "\n",
    "prodAbs [1,-5,3]"
   ]
  },
  {
   "cell_type": "markdown",
   "metadata": {},
   "source": [
    "-----"
   ]
  },
  {
   "cell_type": "code",
   "execution_count": null,
   "metadata": {},
   "outputs": [],
   "source": [
    "sqr x = x^2\n",
    "\n",
    "funcFactory n = case n of\n",
    " 1 -> id\n",
    " 2 -> sqr\n",
    " 3 -> (^3)\n",
    " 4 -> \\x -> x^4\n",
    " 5 -> intFunc\n",
    " _ -> const n\n",
    " where\n",
    "   intFunc x = x^5"
   ]
  },
  {
   "cell_type": "code",
   "execution_count": null,
   "metadata": {},
   "outputs": [],
   "source": [
    "let cub = funcFactory 3\n",
    "cub 4\n",
    ":t funcFactory\n",
    ":t funcFactory 3"
   ]
  },
  {
   "cell_type": "markdown",
   "metadata": {},
   "source": [
    "3. Zadania"
   ]
  },
  {
   "cell_type": "code",
   "execution_count": null,
   "metadata": {},
   "outputs": [],
   "source": [
    "--1\n",
    "expApproxUpTo :: Int -> Double -> Double\n",
    "expApproxUpTo n = case n of\n",
    "    0 ->  const 1\n",
    "    1 ->  \\x -> 1 + (x / fact 1)\n",
    "    2 ->  \\x -> expApproxUpTo 1 x + ((x^2) / fact 2)\n",
    "    3 ->  \\x -> expApproxUpTo 2 x + ((x^3) / fact 3)\n",
    "    4 ->  \\x -> expApproxUpTo 3 x + ((x^4) / fact 4)\n",
    "    5 ->  \\x -> expApproxUpTo 4 x + ((x^5) / fact 5)\n",
    "    6 ->  \\x -> expApproxUpTo 5 x + ((x^6) / fact 6)\n",
    "    y ->  \\x -> expApproxUpTo (y-1) x + ((x^y) / fact y)\n",
    "    where\n",
    "         fact n = fromIntegral (product [1..n])\n",
    "\n",
    "expApproxUpTo 2 2.5"
   ]
  },
  {
   "cell_type": "code",
   "execution_count": null,
   "metadata": {},
   "outputs": [],
   "source": [
    "dfr :: (Double -> Double) -> Double -> (Double -> Double)\n",
    "dfr f h = derivative\n",
    "    where derivative x = (f (x + h) - f x) / h\n",
    "    \n",
    "dfr (\\x ->x^2+x) 0.001 2"
   ]
  },
  {
   "cell_type": "code",
   "execution_count": null,
   "metadata": {},
   "outputs": [],
   "source": [
    "dfc :: (Double -> Double) -> Double -> (Double -> Double)\n",
    "dfc f h = derivative\n",
    "    where derivative x = (f (x+h) - f (x-h))/(2*h)\n",
    "    \n",
    "dfc (\\x ->x^2+x) 0.001 2"
   ]
  },
  {
   "cell_type": "markdown",
   "metadata": {},
   "source": [
    "------"
   ]
  },
  {
   "cell_type": "code",
   "execution_count": null,
   "metadata": {},
   "outputs": [],
   "source": [
    "funcList :: [ Double -> Double ]\n",
    "funcList = [ \\x -> (sin x)/x, \\x -> log x + sqrt x + 1, \\x -> (exp 1) ** x ]\n",
    "\n",
    "evalFuncListAt :: a -> [a -> b] -> [b]\n",
    "evalFuncListAt x [] = []\n",
    "evalFuncListAt x (f:fs) = f x : evalFuncListAt x fs"
   ]
  },
  {
   "cell_type": "code",
   "execution_count": null,
   "metadata": {},
   "outputs": [],
   "source": [
    "evalFuncListAt 1 funcList\n",
    "evalFuncListAt (-3) [ id, abs, const 5, \\y -> 2 * y + 8 ]"
   ]
  },
  {
   "cell_type": "code",
   "execution_count": null,
   "metadata": {},
   "outputs": [],
   "source": [
    "displEqs :: (Double -> Double, Double -> Double)\n",
    "displEqs = (\\t -> 4 * t^2 + 2 * t, \\t -> 3 * t^2)\n",
    "\n",
    "let (x_t, y_t) = (fst displEqs, snd displEqs)\n",
    "\n",
    "x_t 1\n",
    "y_t 1"
   ]
  },
  {
   "cell_type": "markdown",
   "metadata": {},
   "source": [
    "4. Zadania"
   ]
  },
  {
   "cell_type": "code",
   "execution_count": null,
   "metadata": {},
   "outputs": [],
   "source": [
    "--1\n",
    "funcListExt = funcList ++ [\\x -> sqrt (x + 1)]\n",
    "length funcList\n",
    "evalFuncListAt 35 funcListExt\n"
   ]
  },
  {
   "cell_type": "markdown",
   "metadata": {},
   "source": [
    "----"
   ]
  },
  {
   "cell_type": "code",
   "execution_count": null,
   "metadata": {},
   "outputs": [],
   "source": [
    "\n",
    "let f = (+1) -- vs. let f x = x + 1 vs. let f x = (+1) x\n",
    "let g = (*2) -- vs. let g x = x * 2 vs. let g x = (*2) x\n",
    "let h = (^3) -- vs. let h x = x ^ 3 vs. let h x = (^3) x\n",
    "\n",
    "let fg = f . g      -- vs. let fg x  = (f . g) x\n",
    "let gh = g . h      -- vs. let gh x  = (g . h) x\n",
    "let fgh = f . g . h -- vs. let fgh x = (f . g . h) x\n",
    "\n",
    "fgh 3\n",
    "\n",
    "(f . g . h) 3\n",
    "(f . g . h) 3 == f (g (h (3)))\n",
    "\n",
    "(f . id) 3 == (id . f) 3\n",
    "(f . id) 3 == f 3\n",
    "\n",
    "(f . gh) 3 == (fg . h) 3\n",
    "(f . (g . h)) 3 == ((f . g) . h) 3\n",
    "fgh 3 == (f . gh) 3\n",
    "(f . g) 3 == (.) f g 3\n",
    "\n",
    "let u2 x y = x^2 + y^2\n",
    "\n",
    "(f . (u2 4) . g) 3\n",
    "(f . u2 4 . g) 3\n",
    ":t u2 4\n",
    "\n",
    "((u2 1) . (u2 2) . (u2 3)) 1\n",
    "(u2 1 . u2 2 . u2 3) 1\n",
    "\n",
    "((+) 2 . g . h) 3\n",
    "((2+) . g . h) 3"
   ]
  },
  {
   "cell_type": "markdown",
   "metadata": {},
   "source": [
    "5. Zadania"
   ]
  },
  {
   "cell_type": "code",
   "execution_count": null,
   "metadata": {},
   "outputs": [],
   "source": [
    "--1\n",
    "import Data.List\n",
    "\n",
    "sortDesc :: Ord a => [a] -> [a]\n",
    "sortDesc xs = (reverse . sort) xs\n",
    "\n",
    "sortDesc [3,2,5,6]\n",
    "--2\n",
    "sortDesc :: Ord a => [a] -> [a]\n",
    "sortDesc = reverse . sort\n",
    "\n",
    "sortDesc [3,2,5,6]\n",
    "\n",
    "--3\n",
    "let w3 = \\x y z -> sqrt (x^2 + y^2 + z^2)\n",
    "(f . w3 1 2 . h) 3\n",
    "\n",
    "--4\n",
    "\n",
    "are2FunsEqAt :: Eq a => (t -> a) -> (t -> a) -> [t] -> Bool\n",
    "are2FunsEqAt f g [] =True\n",
    "are2FunsEqAt f g xs = (f (head xs) == g (head xs)) && are2FunsEqAt f g (tail xs)\n",
    "are2FunsEqAt (+2) (\\x -> x + 2) [1..1000] \n",
    "\n",
    "--5 \n",
    "\n",
    "composeFunList :: [a -> a] -> (a -> a)\n",
    "composeFunList [] = id\n",
    "composeFunList (x:xs) = x . composeFunList xs\n",
    "\n",
    "composeFunList [\\x -> x+3, (*2)] 3"
   ]
  },
  {
   "cell_type": "markdown",
   "metadata": {},
   "source": [
    "---"
   ]
  },
  {
   "cell_type": "code",
   "execution_count": null,
   "metadata": {},
   "outputs": [],
   "source": [
    ":t ($)\n",
    ":i ($) \n",
    ":t ($!)\n",
    ":i ($!)\n",
    "\n",
    "\n",
    "(($) f 3) == (f $ 3)\n",
    "($) f 3 == (f $ 3)\n",
    "f (g (h (3)))\n",
    "f (g (h $ 3))\n",
    "f (g $ h $ 3)\n",
    "f $ g $ h $ 3\n",
    "\n",
    "(f $ g $ h $ 3) == (f $ (g $ (h $ 3)))\n",
    "\n",
    "\n",
    "_3 = ($3)\n",
    "f 3\n",
    "_3 f -- :)\n",
    "f 3 == _3 f\n",
    "\n",
    "((,) $ 1) 2"
   ]
  },
  {
   "cell_type": "markdown",
   "metadata": {},
   "source": [
    "6. Zadania"
   ]
  },
  {
   "cell_type": "code",
   "execution_count": null,
   "metadata": {},
   "outputs": [],
   "source": [
    "\n",
    "-- 1\n",
    "((,) $ 1) $ 2\n",
    "\n",
    "\n",
    "-- 2\n",
    "(f $ g $ h 3 )== (f . g . h) 3\n",
    "((f . g . h) 3 )== (f . g . h $ 3)\n",
    "(f . g . h $ 3 )== (f $ g $ h 3 )\n"
   ]
  },
  {
   "cell_type": "markdown",
   "metadata": {},
   "source": [
    "----"
   ]
  },
  {
   "cell_type": "code",
   "execution_count": null,
   "metadata": {},
   "outputs": [],
   "source": [
    "onlyEven [] = []\n",
    "onlyEven (x:xs)\n",
    " | x `mod` 2 == 0 = x : onlyEven xs\n",
    " | otherwise      = onlyEven xs"
   ]
  },
  {
   "cell_type": "markdown",
   "metadata": {},
   "source": [
    "7. Zadania"
   ]
  },
  {
   "cell_type": "code",
   "execution_count": null,
   "metadata": {},
   "outputs": [],
   "source": [
    "-- 2\n",
    "import Data.Char\n",
    "filter' :: (a -> Bool) -> [a] -> [a]\n",
    "filter' p []     = []\n",
    "filter' p (x:xs) = if p x \n",
    "                    then x : filter p xs\n",
    "                    else filter' p xs\n",
    "\n",
    "onlyEven = filter' ((==) 0 . (`mod` 2))\n",
    "onlyEven [12,43,2,45,1,534,2,32,5,2,87,45]\n",
    "\n",
    "onlyOdd = filter' ((==) 1 . (`mod` 2))\n",
    "onlyOdd [32,123,24,21,42123,21,1]\n",
    "\n",
    "onlyUpper = filter' isUpper\n",
    "onlyUpper \"AABBAdsdaAbgfh\""
   ]
  },
  {
   "cell_type": "code",
   "execution_count": null,
   "metadata": {},
   "outputs": [],
   "source": [
    "--3 \n",
    "length (onlyEven [1..10^6])\n",
    "length (filter even [1..10^6]) -- filter z biblioteki standardowej"
   ]
  },
  {
   "cell_type": "code",
   "execution_count": null,
   "metadata": {},
   "outputs": [],
   "source": [
    "--4 \n",
    "length $ onlyEven [1..10^6]\n",
    "length $ filter even [1..10^6]"
   ]
  },
  {
   "cell_type": "code",
   "execution_count": null,
   "metadata": {},
   "outputs": [],
   "source": [
    "--5\n",
    "length  [x | x <- [1..10^6], x `mod` 2 == 1]"
   ]
  },
  {
   "cell_type": "code",
   "execution_count": null,
   "metadata": {},
   "outputs": [],
   "source": [
    "--6\n",
    "filter (\\s -> length s == 2) [\"a\", \"aa\", \"aaa\", \"b\", \"bb\"]\n",
    "filter (\\(x,y) -> x > y) [(1,2), (2,2), (2,1), (2,2), (3,2)]\n",
    "filter (\\xs -> sum xs > 300) [[1..5], [56..60], [101..105]]\n",
    "length . filter (\\f -> f 2 > 10) $ [(+5), (*5), (^5), \\x -> 3 * x + 7]"
   ]
  },
  {
   "cell_type": "markdown",
   "metadata": {},
   "source": [
    "---"
   ]
  },
  {
   "cell_type": "code",
   "execution_count": null,
   "metadata": {},
   "outputs": [],
   "source": [
    "doubleElems []     = []\n",
    "doubleElems (x:xs) = 2 * x : doubleElems xs"
   ]
  },
  {
   "cell_type": "markdown",
   "metadata": {},
   "source": [
    " 8. Zadania "
   ]
  },
  {
   "cell_type": "code",
   "execution_count": null,
   "metadata": {},
   "outputs": [],
   "source": [
    "--1\n",
    "sqrElems [] = []\n",
    "sqrElems (x:xs) = (x^2) : sqrElems xs\n",
    "sqrElems [1,2,3,4]"
   ]
  },
  {
   "cell_type": "code",
   "execution_count": null,
   "metadata": {},
   "outputs": [],
   "source": [
    "\n",
    "--2\n",
    "import Data.Char\n",
    "map' :: (a -> b) -> [a] -> [b]\n",
    "map' f (x:xs) = f x : map' f xs\n",
    "map' f [] = []\n",
    "\n",
    "doubleElems = map' (*2) \n",
    "sqrElems    = map' sqrt\n",
    "lowerCase   = map' toLower\n",
    "\n",
    "doubleElems [1,2,4,2]\n",
    "sqrElems [1,234,2,25]\n",
    "lowerCase \"AAaaZZ\""
   ]
  },
  {
   "cell_type": "code",
   "execution_count": null,
   "metadata": {},
   "outputs": [],
   "source": [
    "--3 Przepisać powyższe funkcje używając list comprehensions\n",
    "import Data.Char\n",
    "\n",
    "doubleElems xs = [2*x | x <- xs]\n",
    "sqrElems xs = [sqrt x | x <- xs]\n",
    "lowerCase xs = [toLower x | x <- xs]\n",
    "\n",
    "doubleElems [1,2,4,2]\n",
    "sqrElems [1,234,2,25]\n",
    "lowerCase \"AAaaZZ\""
   ]
  },
  {
   "cell_type": "code",
   "execution_count": null,
   "metadata": {},
   "outputs": [],
   "source": [
    "--4 \n",
    ":set +s\n",
    "length . filter even $ doubleElems [1..10^7]\n",
    "length . filter even . map (*2) $ [1..10^7] -- map z biblioteki standardowej"
   ]
  },
  {
   "cell_type": "code",
   "execution_count": null,
   "metadata": {},
   "outputs": [],
   "source": [
    "--6\n",
    "import Data.Char\n",
    "map (*2) [1..10]\n",
    "map (^2) [1..10]\n",
    "map toLower \"ABCD\" -- konieczny import Data.Char\n",
    "length . filter (>10) . map ($ 2) $ [(+5), (*5), (^5), \\x -> 3 * x + 7]\n",
    "map show [1..10]\n",
    "map length [[1],[1,2],[1,2,3]]\n",
    "map (map length) [ [[1],[1,2],[1,2,3]], [[1],[1,2]] ]\n",
    "map (\\(x,y) -> (y,x)) [(1,'a'), (2,'b'), (3,'c')]\n",
    "map (\\(x,y) -> y) [(1,'a'), (2,'b'), (3,'c')]\n",
    "map (\\s -> (s, length s)) [\"manuscripts\",\"do\",\"not\",\"burn\"]"
   ]
  },
  {
   "cell_type": "markdown",
   "metadata": {},
   "source": [
    "----"
   ]
  },
  {
   "cell_type": "code",
   "execution_count": null,
   "metadata": {},
   "outputs": [],
   "source": [
    "sumWith g []     = 0\n",
    "sumWith g (x:xs) = g x + sumWith g xs -- (+) (g x) (sumWith g xs)\n",
    "\n",
    "prodWith g []     = 1\n",
    "prodWith g (x:xs) = g x * prodWith g xs -- (*) (g x) (prodWith g xs)"
   ]
  },
  {
   "cell_type": "code",
   "execution_count": null,
   "metadata": {},
   "outputs": [],
   "source": [
    "sumWith' :: Num a => (a -> a) -> [a] -> a\n",
    "sumWith' = go 0\n",
    " where\n",
    "   go acc g [] = acc\n",
    "   go acc g (x:xs) = go (g x + acc) g xs\n",
    "\n",
    "prodWith' :: Num a => (a -> a) -> [a] -> a\n",
    "prodWith' = go 1\n",
    " where\n",
    "   go acc g [] = acc\n",
    "   go acc g (x:xs) = go (g x * acc) g xs"
   ]
  },
  {
   "cell_type": "markdown",
   "metadata": {},
   "source": [
    "9. Zadania"
   ]
  },
  {
   "cell_type": "code",
   "execution_count": null,
   "metadata": {},
   "outputs": [],
   "source": [
    "\n",
    "--1\n",
    "\n",
    "foldr' :: (a -> b -> b) -> b -> [a] -> b\n",
    "foldr' f z [] = z\n",
    "foldr' f z xs = foldr' f (f (last xs) z) (init xs)\n",
    "\n",
    "sumWith'' g = foldr' (\\x acc -> g x + acc) 0 \n",
    "prodWith'' g = foldr' (\\x acc -> g x * acc) 1\n",
    "sumWith'' (*2) [1,2,3,4,5,6]\n",
    "prodWith'' (+1) [1,2,3]"
   ]
  },
  {
   "cell_type": "code",
   "execution_count": null,
   "metadata": {},
   "outputs": [],
   "source": [
    "foldl' :: (b -> a -> b) -> b -> [a] -> b\n",
    "foldl' f z [] = z\n",
    "foldl' f z xs = foldl' f (f  z (head xs)) (tail xs)\n",
    "\n",
    "sumWith''' g  = foldl' (\\acc x -> g x + acc) 0\n",
    "prodWith''' g = foldl'  (\\acc x -> g x * acc) 1\n",
    "\n",
    "sumWith''' (*2) [1,2,3,4,5,6]\n",
    "prodWith''' (+1) [1,2,3]"
   ]
  },
  {
   "cell_type": "code",
   "execution_count": null,
   "metadata": {},
   "outputs": [],
   "source": [
    "-- 5\n",
    "let strList1 = [\"My\", \"name\", \"is\", \"Inigo\", \"Montoya\"]\n",
    "foldr (++) [] strList1\n",
    "foldr (\\x acc -> x ++ \" \" ++ acc) [] strList1\n",
    "foldr1 (\\x acc -> x ++ \" \" ++ acc) strList1\n",
    "\n",
    "\n",
    "\n",
    "let list1To5 = [1..5]\n",
    "\n",
    "foldr (:) [] list1To5\n",
    "--foldl (:) [] list1To5\n",
    "foldl (\\acc x -> x : acc) [] list1To5\n",
    "foldr (\\x xs -> xs ++ [x]) [] list1To5\n",
    "\n",
    "foldr (\\_ acc -> 1 + acc) 0 list1To5\n",
    "\n",
    "\n",
    "let listRand = [1,4,2,6,5,3]\n",
    "foldr1 max listRand\n",
    "foldr1 min listRand\n",
    "\n",
    "let listBool = [True, False, True, False]\n",
    "foldr (||) False listBool\n",
    "foldr (&&) True listBool\n",
    "\n",
    "foldr (+) 0 list1To5 == foldl (+) 0 list1To5\n",
    "foldr (*) 0 list1To5 == foldl (*) 0 list1To5\n",
    "foldr (-) 0 list1To5 == foldl (-) 0 list1To5\n",
    "\n",
    "let list321 = [3,2,1]\n",
    "foldr (-) 0 list321\n",
    "foldr1 (-) list321\n",
    "foldl (-) 0 list321\n",
    "foldl1 (-) list321"
   ]
  },
  {
   "cell_type": "code",
   "execution_count": null,
   "metadata": {},
   "outputs": [],
   "source": [
    "--6\n",
    "\n",
    "foldr (\\x acc -> \"(\" ++ x ++ \" f \" ++ acc ++ \")\") \"z\" [\"1\",\"2\",\"3\"]\n",
    "foldr1 (\\x acc -> \"(\" ++ x ++ \" f \" ++ acc ++ \")\") [\"1\",\"2\",\"3\"]\n",
    "foldl (\\acc x -> \"(\" ++ acc ++ \" f \" ++ x ++ \")\") \"z\" [\"1\",\"2\",\"3\"]\n",
    "foldl1 (\\acc x -> \"(\" ++ acc ++ \" f \" ++ x ++ \")\") [\"1\",\"2\",\"3\"]"
   ]
  },
  {
   "cell_type": "markdown",
   "metadata": {},
   "source": [
    "----"
   ]
  },
  {
   "cell_type": "code",
   "execution_count": null,
   "metadata": {},
   "outputs": [],
   "source": [
    "zip [1,2,3] ['a','b']\n",
    "unzip [(1,'a'),(2,'b')]\n",
    "unzip (zip [1,2,3] ['a','b'])\n",
    "zip [1,2] [10,20] == zipWith (,) [1,2] [10,20]\n",
    "\n",
    "let endlessList = [1..]\n",
    "take 5 (zip endlessList (tail endlessList))"
   ]
  },
  {
   "cell_type": "markdown",
   "metadata": {},
   "source": [
    "10. zadania"
   ]
  },
  {
   "cell_type": "code",
   "execution_count": null,
   "metadata": {},
   "outputs": [],
   "source": [
    "\n",
    "-- 1\n",
    "isSortedAsc :: Ord a => [a] -> Bool\n",
    "isSortedAsc xs = foldl (&&) True (map (\\(x, y) -> x <= y ) (zip xs (tail xs)))\n",
    "\n",
    "list = [1,2,3,4,5,6]\n",
    "isSortedAsc list"
   ]
  },
  {
   "cell_type": "code",
   "execution_count": null,
   "metadata": {},
   "outputs": [],
   "source": [
    "-- 2\n",
    "\n",
    "everySecond :: [t] -> [t]\n",
    "everySecond xs =  map (\\(x,y) -> x) (filter (\\(x,y)-> y `mod` 2 == 0) (zip xs [1..]))\n",
    "everySecond [1,2,32,3,234,12,423]"
   ]
  },
  {
   "cell_type": "code",
   "execution_count": null,
   "metadata": {},
   "outputs": [],
   "source": [
    "--3\n",
    "zip3' :: [a] -> [b] -> [c] -> [(a,b,c)]\n",
    "zip3' [] _ _ = []\n",
    "zip3' xs [] _ = []\n",
    "zip3' xs ys [] = []\n",
    "zip3' (x:xs) (y:ys) (z:zs) = (x, y, z) : zip3' xs ys zs\n",
    "\n",
    "zip3' [1] [2,4,5] [1,2,3]\n",
    "\n",
    "isSortedDesc :: Ord a => [a] -> Bool\n",
    "isSortedDesc xs = foldl (&&) True (map (\\(x, y) -> x >= y ) (zip xs (tail xs)))\n",
    "\n",
    "isSortedDesc [32,32,2,0]\n",
    "\n",
    "\n",
    "isSorted :: Ord a => [a] -> Bool\n",
    "isSorted xs  = (isSortedDesc xs) || (isSortedAsc xs)\n",
    "\n",
    "isSorted [21,21,1]"
   ]
  },
  {
   "cell_type": "markdown",
   "metadata": {},
   "source": [
    "---"
   ]
  },
  {
   "cell_type": "code",
   "execution_count": null,
   "metadata": {},
   "outputs": [],
   "source": [
    "concat' :: [[a]] -> [a]\n",
    "concat' []     = []\n",
    "concat' (x:xs) = x ++ concat' xs\n",
    "\n",
    "concat' [\"abc\", \"def\"]\n",
    "concat' [[1,2],[3,4]]\n",
    "(concat' . concat') [ [[1,2], [3,4]] , [[5,6], [7,8]] ]\n",
    "concat'  [ [[1,2], [3,4]] , [[5,6], [7,8]] ]\n",
    "\n",
    "concat' [\"abc\", \"def\"] == concat [\"abc\", \"def\"]\n",
    ":t concatMap"
   ]
  },
  {
   "cell_type": "code",
   "execution_count": null,
   "metadata": {},
   "outputs": [],
   "source": [
    "concatMap (\\x -> [(x,x+2,x/2)]) [1,3,5]\n",
    "map (\\x -> [(x,x+2,x/2)]) [1,3,5] -- Najpierw wykonuje mapowanie, a potem concat"
   ]
  },
  {
   "cell_type": "markdown",
   "metadata": {},
   "source": [
    "---"
   ]
  },
  {
   "cell_type": "code",
   "execution_count": null,
   "metadata": {},
   "outputs": [],
   "source": [
    "import Data.Char\n",
    "import Data.List\n",
    "\n",
    "capitalize :: [Char] -> [Char]\n",
    "capitalize [] = []\n",
    "capitalize (x:xs) = toUpper x : (map toLower xs)\n",
    "\n",
    "formatStr s = foldr1 (\\w s -> w ++ \" \" ++ s) .\n",
    "          map capitalize .\n",
    "          filter (\\x -> length x > 1) $\n",
    "          words s\n",
    "          \n",
    "formatStr \"tomasz  t  ,     bogdan anna . Jerzy j    maria\"          "
   ]
  },
  {
   "cell_type": "code",
   "execution_count": null,
   "metadata": {},
   "outputs": [],
   "source": [
    "prodPrices p = case p of\n",
    " \"A\" -> 100\n",
    " \"B\" -> 500\n",
    " \"C\" -> 1000\n",
    " _   -> error \"Unknown product\"\n",
    "\n",
    "products = [\"A\",\"B\",\"C\"]\n",
    "\n",
    "-- basic discount strategy\n",
    "discStr1 p\n",
    " | price > 999 = 0.3 * price\n",
    " | otherwise   = 0.1 * price\n",
    " where price = prodPrices p\n",
    "\n",
    "-- flat discount strategy\n",
    "discStr2 p = 0.2 * prodPrices p\n",
    "\n",
    "totalDiscout discStr =\n",
    " foldl1 (+) .\n",
    " map discStr .\n",
    " filter (\\p -> prodPrices p > 499)\n",
    " \n",
    "totalDiscout discStr1 [\"A\", \"B\", \"C\"]\n",
    "totalDiscout discStr2 [\"A\", \"B\", \"C\"]"
   ]
  },
  {
   "cell_type": "markdown",
   "metadata": {},
   "source": [
    "12. Zadania"
   ]
  },
  {
   "cell_type": "code",
   "execution_count": null,
   "metadata": {},
   "outputs": [],
   "source": [
    "\n",
    "--zad 2\n",
    "import Data.Set\n",
    "replicate 2 . product . map (*3) $ zipWith max [4,2] [1,5]\n",
    "sum . takeWhile (<1000) . filter odd . map (^2) $ [1..]\n",
    "length . fromList . Prelude.map toLower $ \"thirteen men must go\" -- potrzebny import Data.Set"
   ]
  }
 ],
 "metadata": {
  "kernelspec": {
   "display_name": "Haskell",
   "language": "haskell",
   "name": "haskell"
  },
  "language_info": {
   "codemirror_mode": "ihaskell",
   "file_extension": ".hs",
   "mimetype": "text/x-haskell",
   "name": "haskell",
   "pygments_lexer": "Haskell",
   "version": "8.6.5"
  }
 },
 "nbformat": 4,
 "nbformat_minor": 4
}
