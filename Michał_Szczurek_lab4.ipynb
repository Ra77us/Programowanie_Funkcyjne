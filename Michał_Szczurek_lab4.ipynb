{
 "cells": [
  {
   "cell_type": "markdown",
   "metadata": {},
   "source": [
    "Michał Szczurek "
   ]
  },
  {
   "cell_type": "markdown",
   "metadata": {},
   "source": [
    "1."
   ]
  },
  {
   "cell_type": "code",
   "execution_count": null,
   "metadata": {},
   "outputs": [],
   "source": [
    "type T1 = Int\n",
    "type T2 = (T1,Double)\n",
    "type T4 a = (a,a,a)\n",
    "type T5 a = [a]\n",
    "type T6 a b = [([a],[b])]\n",
    "type T7 a b = a -> b\n",
    "type T8 a b = a -> (a -> b) -> Int"
   ]
  },
  {
   "cell_type": "code",
   "execution_count": null,
   "metadata": {},
   "outputs": [],
   "source": [
    "polarToCartesian :: Floating a => (a,a) -> (a,a)\n",
    "polarToCartesian (r,phi) = (r * cos phi, r * sin phi)"
   ]
  },
  {
   "cell_type": "code",
   "execution_count": null,
   "metadata": {},
   "outputs": [],
   "source": [
    ":t polarToCartesian\n",
    "let (x1,y1) = polarToCartesian (1,pi/4)\n",
    "let (x2,y2) = polarToCartesian (x1,y1) -- !!!\n",
    "polarToCartesian . polarToCartesian $ (1,pi/4) -- !!!"
   ]
  },
  {
   "cell_type": "code",
   "execution_count": 6,
   "metadata": {},
   "outputs": [
    {
     "data": {
      "text/html": [
       "<style>/* Styles used for the Hoogle display in the pager */\n",
       ".hoogle-doc {\n",
       "display: block;\n",
       "padding-bottom: 1.3em;\n",
       "padding-left: 0.4em;\n",
       "}\n",
       ".hoogle-code {\n",
       "display: block;\n",
       "font-family: monospace;\n",
       "white-space: pre;\n",
       "}\n",
       ".hoogle-text {\n",
       "display: block;\n",
       "}\n",
       ".hoogle-name {\n",
       "color: green;\n",
       "font-weight: bold;\n",
       "}\n",
       ".hoogle-head {\n",
       "font-weight: bold;\n",
       "}\n",
       ".hoogle-sub {\n",
       "display: block;\n",
       "margin-left: 0.4em;\n",
       "}\n",
       ".hoogle-package {\n",
       "font-weight: bold;\n",
       "font-style: italic;\n",
       "}\n",
       ".hoogle-module {\n",
       "font-weight: bold;\n",
       "}\n",
       ".hoogle-class {\n",
       "font-weight: bold;\n",
       "}\n",
       ".get-type {\n",
       "color: green;\n",
       "font-weight: bold;\n",
       "font-family: monospace;\n",
       "display: block;\n",
       "white-space: pre-wrap;\n",
       "}\n",
       ".show-type {\n",
       "color: green;\n",
       "font-weight: bold;\n",
       "font-family: monospace;\n",
       "margin-left: 1em;\n",
       "}\n",
       ".mono {\n",
       "font-family: monospace;\n",
       "display: block;\n",
       "}\n",
       ".err-msg {\n",
       "color: red;\n",
       "font-style: italic;\n",
       "font-family: monospace;\n",
       "white-space: pre;\n",
       "display: block;\n",
       "}\n",
       "#unshowable {\n",
       "color: red;\n",
       "font-weight: bold;\n",
       "}\n",
       ".err-msg.in.collapse {\n",
       "padding-top: 0.7em;\n",
       "}\n",
       ".highlight-code {\n",
       "white-space: pre;\n",
       "font-family: monospace;\n",
       "}\n",
       ".suggestion-warning { \n",
       "font-weight: bold;\n",
       "color: rgb(200, 130, 0);\n",
       "}\n",
       ".suggestion-error { \n",
       "font-weight: bold;\n",
       "color: red;\n",
       "}\n",
       ".suggestion-name {\n",
       "font-weight: bold;\n",
       "}\n",
       "</style><span class='get-type'>polarToCartesian' :: forall a. Floating a => PolarCoord' a -> CartesianCoord' a</span>"
      ],
      "text/plain": [
       "polarToCartesian' :: forall a. Floating a => PolarCoord' a -> CartesianCoord' a"
      ]
     },
     "metadata": {},
     "output_type": "display_data"
    },
    {
     "data": {
      "text/plain": [
       "(0.5375741099526127,0.4593626849327842)"
      ]
     },
     "metadata": {},
     "output_type": "display_data"
    }
   ],
   "source": [
    "type CartesianCoord' a = (a,a)\n",
    "type PolarCoord' a = (a,a)\n",
    "\n",
    "polarToCartesian' :: Floating a => PolarCoord' a -> CartesianCoord' a\n",
    "polarToCartesian' (r,phi) = (r * cos phi, r * sin phi)\n",
    "\n",
    ":t polarToCartesian'\n",
    "let (x1,y1) = polarToCartesian' (1,pi/4)\n",
    "let (x2,y2) = polarToCartesian' (x1,y1) -- !!!\n",
    "polarToCartesian' . polarToCartesian' $ (1,pi/4) -- !!!"
   ]
  },
  {
   "cell_type": "code",
   "execution_count": 17,
   "metadata": {},
   "outputs": [
    {
     "data": {
      "text/html": [
       "<style>/* Styles used for the Hoogle display in the pager */\n",
       ".hoogle-doc {\n",
       "display: block;\n",
       "padding-bottom: 1.3em;\n",
       "padding-left: 0.4em;\n",
       "}\n",
       ".hoogle-code {\n",
       "display: block;\n",
       "font-family: monospace;\n",
       "white-space: pre;\n",
       "}\n",
       ".hoogle-text {\n",
       "display: block;\n",
       "}\n",
       ".hoogle-name {\n",
       "color: green;\n",
       "font-weight: bold;\n",
       "}\n",
       ".hoogle-head {\n",
       "font-weight: bold;\n",
       "}\n",
       ".hoogle-sub {\n",
       "display: block;\n",
       "margin-left: 0.4em;\n",
       "}\n",
       ".hoogle-package {\n",
       "font-weight: bold;\n",
       "font-style: italic;\n",
       "}\n",
       ".hoogle-module {\n",
       "font-weight: bold;\n",
       "}\n",
       ".hoogle-class {\n",
       "font-weight: bold;\n",
       "}\n",
       ".get-type {\n",
       "color: green;\n",
       "font-weight: bold;\n",
       "font-family: monospace;\n",
       "display: block;\n",
       "white-space: pre-wrap;\n",
       "}\n",
       ".show-type {\n",
       "color: green;\n",
       "font-weight: bold;\n",
       "font-family: monospace;\n",
       "margin-left: 1em;\n",
       "}\n",
       ".mono {\n",
       "font-family: monospace;\n",
       "display: block;\n",
       "}\n",
       ".err-msg {\n",
       "color: red;\n",
       "font-style: italic;\n",
       "font-family: monospace;\n",
       "white-space: pre;\n",
       "display: block;\n",
       "}\n",
       "#unshowable {\n",
       "color: red;\n",
       "font-weight: bold;\n",
       "}\n",
       ".err-msg.in.collapse {\n",
       "padding-top: 0.7em;\n",
       "}\n",
       ".highlight-code {\n",
       "white-space: pre;\n",
       "font-family: monospace;\n",
       "}\n",
       ".suggestion-warning { \n",
       "font-weight: bold;\n",
       "color: rgb(200, 130, 0);\n",
       "}\n",
       ".suggestion-error { \n",
       "font-weight: bold;\n",
       "color: red;\n",
       "}\n",
       ".suggestion-name {\n",
       "font-weight: bold;\n",
       "}\n",
       "</style><span class='get-type'>polarToCartesian'' :: forall a. Floating a => PolarCoord'' a -> CartesianCoord'' a</span>"
      ],
      "text/plain": [
       "polarToCartesian'' :: forall a. Floating a => PolarCoord'' a -> CartesianCoord'' a"
      ]
     },
     "metadata": {},
     "output_type": "display_data"
    }
   ],
   "source": [
    "newtype CartesianCoord'' a = MkCartesianCoord'' (a,a)\n",
    "newtype PolarCoord'' a = MkPolarCoord'' (a,a)\n",
    "\n",
    "polarToCartesian'' :: Floating a => PolarCoord'' a -> CartesianCoord'' a\n",
    "polarToCartesian'' (MkPolarCoord'' (r,phi)) = MkCartesianCoord'' (r * cos phi, r * sin phi)\n",
    "\n",
    ":t polarToCartesian''\n"
   ]
  },
  {
   "cell_type": "markdown",
   "metadata": {},
   "source": [
    "Zadania"
   ]
  },
  {
   "cell_type": "code",
   "execution_count": 19,
   "metadata": {},
   "outputs": [
    {
     "data": {
      "text/plain": [
       "0.7071067811865476"
      ]
     },
     "metadata": {},
     "output_type": "display_data"
    },
    {
     "data": {
      "text/plain": [
       "0.7071067811865475"
      ]
     },
     "metadata": {},
     "output_type": "display_data"
    },
    {
     "data": {
      "text/plain": [
       "1.1640002704689083"
      ]
     },
     "metadata": {},
     "output_type": "display_data"
    },
    {
     "data": {
      "text/plain": [
       "7.914865972987054"
      ]
     },
     "metadata": {},
     "output_type": "display_data"
    }
   ],
   "source": [
    "--1\n",
    "let MkCartesianCoord''(x1,y1) = polarToCartesian'' (MkPolarCoord''(1,pi/4))\n",
    "x1\n",
    "y1\n",
    "let MkCartesianCoord'' (x2,y2) = polarToCartesian'' (MkPolarCoord''(-8,-8))\n",
    "x2\n",
    "y2"
   ]
  },
  {
   "cell_type": "markdown",
   "metadata": {},
   "source": [
    "2"
   ]
  },
  {
   "cell_type": "code",
   "execution_count": 20,
   "metadata": {},
   "outputs": [],
   "source": [
    "-- product type example (one constructor)\n",
    "data CartInt2DVec = MkCartInt2DVec Int Int -- konwencja: prefix 'Mk' dla konstruktora\n",
    "\n",
    "xCoord :: CartInt2DVec -> Int\n",
    "xCoord (MkCartInt2DVec x _) = x\n",
    "\n",
    "yCoord :: CartInt2DVec -> Int\n",
    "yCoord (MkCartInt2DVec _ y) = y\n"
   ]
  },
  {
   "cell_type": "code",
   "execution_count": 21,
   "metadata": {},
   "outputs": [
    {
     "data": {
      "text/html": [
       "<style>/* Styles used for the Hoogle display in the pager */\n",
       ".hoogle-doc {\n",
       "display: block;\n",
       "padding-bottom: 1.3em;\n",
       "padding-left: 0.4em;\n",
       "}\n",
       ".hoogle-code {\n",
       "display: block;\n",
       "font-family: monospace;\n",
       "white-space: pre;\n",
       "}\n",
       ".hoogle-text {\n",
       "display: block;\n",
       "}\n",
       ".hoogle-name {\n",
       "color: green;\n",
       "font-weight: bold;\n",
       "}\n",
       ".hoogle-head {\n",
       "font-weight: bold;\n",
       "}\n",
       ".hoogle-sub {\n",
       "display: block;\n",
       "margin-left: 0.4em;\n",
       "}\n",
       ".hoogle-package {\n",
       "font-weight: bold;\n",
       "font-style: italic;\n",
       "}\n",
       ".hoogle-module {\n",
       "font-weight: bold;\n",
       "}\n",
       ".hoogle-class {\n",
       "font-weight: bold;\n",
       "}\n",
       ".get-type {\n",
       "color: green;\n",
       "font-weight: bold;\n",
       "font-family: monospace;\n",
       "display: block;\n",
       "white-space: pre-wrap;\n",
       "}\n",
       ".show-type {\n",
       "color: green;\n",
       "font-weight: bold;\n",
       "font-family: monospace;\n",
       "margin-left: 1em;\n",
       "}\n",
       ".mono {\n",
       "font-family: monospace;\n",
       "display: block;\n",
       "}\n",
       ".err-msg {\n",
       "color: red;\n",
       "font-style: italic;\n",
       "font-family: monospace;\n",
       "white-space: pre;\n",
       "display: block;\n",
       "}\n",
       "#unshowable {\n",
       "color: red;\n",
       "font-weight: bold;\n",
       "}\n",
       ".err-msg.in.collapse {\n",
       "padding-top: 0.7em;\n",
       "}\n",
       ".highlight-code {\n",
       "white-space: pre;\n",
       "font-family: monospace;\n",
       "}\n",
       ".suggestion-warning { \n",
       "font-weight: bold;\n",
       "color: rgb(200, 130, 0);\n",
       "}\n",
       ".suggestion-error { \n",
       "font-weight: bold;\n",
       "color: red;\n",
       "}\n",
       ".suggestion-name {\n",
       "font-weight: bold;\n",
       "}\n",
       "</style><span class='get-type'>xCoord :: CartInt2DVec -> Int</span>"
      ],
      "text/plain": [
       "xCoord :: CartInt2DVec -> Int"
      ]
     },
     "metadata": {},
     "output_type": "display_data"
    },
    {
     "data": {
      "text/plain": [
       "1"
      ]
     },
     "metadata": {},
     "output_type": "display_data"
    },
    {
     "data": {
      "text/html": [
       "<style>/* Styles used for the Hoogle display in the pager */\n",
       ".hoogle-doc {\n",
       "display: block;\n",
       "padding-bottom: 1.3em;\n",
       "padding-left: 0.4em;\n",
       "}\n",
       ".hoogle-code {\n",
       "display: block;\n",
       "font-family: monospace;\n",
       "white-space: pre;\n",
       "}\n",
       ".hoogle-text {\n",
       "display: block;\n",
       "}\n",
       ".hoogle-name {\n",
       "color: green;\n",
       "font-weight: bold;\n",
       "}\n",
       ".hoogle-head {\n",
       "font-weight: bold;\n",
       "}\n",
       ".hoogle-sub {\n",
       "display: block;\n",
       "margin-left: 0.4em;\n",
       "}\n",
       ".hoogle-package {\n",
       "font-weight: bold;\n",
       "font-style: italic;\n",
       "}\n",
       ".hoogle-module {\n",
       "font-weight: bold;\n",
       "}\n",
       ".hoogle-class {\n",
       "font-weight: bold;\n",
       "}\n",
       ".get-type {\n",
       "color: green;\n",
       "font-weight: bold;\n",
       "font-family: monospace;\n",
       "display: block;\n",
       "white-space: pre-wrap;\n",
       "}\n",
       ".show-type {\n",
       "color: green;\n",
       "font-weight: bold;\n",
       "font-family: monospace;\n",
       "margin-left: 1em;\n",
       "}\n",
       ".mono {\n",
       "font-family: monospace;\n",
       "display: block;\n",
       "}\n",
       ".err-msg {\n",
       "color: red;\n",
       "font-style: italic;\n",
       "font-family: monospace;\n",
       "white-space: pre;\n",
       "display: block;\n",
       "}\n",
       "#unshowable {\n",
       "color: red;\n",
       "font-weight: bold;\n",
       "}\n",
       ".err-msg.in.collapse {\n",
       "padding-top: 0.7em;\n",
       "}\n",
       ".highlight-code {\n",
       "white-space: pre;\n",
       "font-family: monospace;\n",
       "}\n",
       ".suggestion-warning { \n",
       "font-weight: bold;\n",
       "color: rgb(200, 130, 0);\n",
       "}\n",
       ".suggestion-error { \n",
       "font-weight: bold;\n",
       "color: red;\n",
       "}\n",
       ".suggestion-name {\n",
       "font-weight: bold;\n",
       "}\n",
       "</style><span class='get-type'>yCoord :: CartInt2DVec -> Int</span>"
      ],
      "text/plain": [
       "yCoord :: CartInt2DVec -> Int"
      ]
     },
     "metadata": {},
     "output_type": "display_data"
    },
    {
     "data": {
      "text/plain": [
       "2"
      ]
     },
     "metadata": {},
     "output_type": "display_data"
    },
    {
     "data": {
      "text/plain": [
       "5"
      ]
     },
     "metadata": {},
     "output_type": "display_data"
    },
    {
     "data": {},
     "metadata": {},
     "output_type": "display_data"
    },
    {
     "data": {
      "text/html": [
       "<style>/* Styles used for the Hoogle display in the pager */\n",
       ".hoogle-doc {\n",
       "display: block;\n",
       "padding-bottom: 1.3em;\n",
       "padding-left: 0.4em;\n",
       "}\n",
       ".hoogle-code {\n",
       "display: block;\n",
       "font-family: monospace;\n",
       "white-space: pre;\n",
       "}\n",
       ".hoogle-text {\n",
       "display: block;\n",
       "}\n",
       ".hoogle-name {\n",
       "color: green;\n",
       "font-weight: bold;\n",
       "}\n",
       ".hoogle-head {\n",
       "font-weight: bold;\n",
       "}\n",
       ".hoogle-sub {\n",
       "display: block;\n",
       "margin-left: 0.4em;\n",
       "}\n",
       ".hoogle-package {\n",
       "font-weight: bold;\n",
       "font-style: italic;\n",
       "}\n",
       ".hoogle-module {\n",
       "font-weight: bold;\n",
       "}\n",
       ".hoogle-class {\n",
       "font-weight: bold;\n",
       "}\n",
       ".get-type {\n",
       "color: green;\n",
       "font-weight: bold;\n",
       "font-family: monospace;\n",
       "display: block;\n",
       "white-space: pre-wrap;\n",
       "}\n",
       ".show-type {\n",
       "color: green;\n",
       "font-weight: bold;\n",
       "font-family: monospace;\n",
       "margin-left: 1em;\n",
       "}\n",
       ".mono {\n",
       "font-family: monospace;\n",
       "display: block;\n",
       "}\n",
       ".err-msg {\n",
       "color: red;\n",
       "font-style: italic;\n",
       "font-family: monospace;\n",
       "white-space: pre;\n",
       "display: block;\n",
       "}\n",
       "#unshowable {\n",
       "color: red;\n",
       "font-weight: bold;\n",
       "}\n",
       ".err-msg.in.collapse {\n",
       "padding-top: 0.7em;\n",
       "}\n",
       ".highlight-code {\n",
       "white-space: pre;\n",
       "font-family: monospace;\n",
       "}\n",
       ".suggestion-warning { \n",
       "font-weight: bold;\n",
       "color: rgb(200, 130, 0);\n",
       "}\n",
       ".suggestion-error { \n",
       "font-weight: bold;\n",
       "color: red;\n",
       "}\n",
       ".suggestion-name {\n",
       "font-weight: bold;\n",
       "}\n",
       "</style><span class='get-type'>MkCartInt2DVec :: Int -> Int -> CartInt2DVec</span>"
      ],
      "text/plain": [
       "MkCartInt2DVec :: Int -> Int -> CartInt2DVec"
      ]
     },
     "metadata": {},
     "output_type": "display_data"
    }
   ],
   "source": [
    "let p12 = MkCartInt2DVec 1 2\n",
    ":t xCoord -- analizujemy typ xCoord\n",
    "xCoord p12\n",
    ":t yCoord -- analizujemy typ yCoord\n",
    "yCoord p12\n",
    "xCoord $ MkCartInt2DVec 5 10\n",
    "\n",
    "\n",
    ":i CartInt2DVec\n",
    ":t MkCartInt2DVec"
   ]
  },
  {
   "cell_type": "code",
   "execution_count": null,
   "metadata": {},
   "outputs": [],
   "source": [
    "type X = Int\n",
    "type Y = Int"
   ]
  },
  {
   "cell_type": "code",
   "execution_count": null,
   "metadata": {},
   "outputs": [],
   "source": [
    "data Cart2DVec' a = MkCart2DVec' a a\n",
    "\n",
    "xCoord' :: Cart2DVec' a -> a\n",
    "xCoord' (MkCart2DVec' x _) = x\n",
    "\n",
    "yCoord' :: Cart2DVec' a -> a\n",
    "yCoord' (MkCart2DVec' _ y) = y"
   ]
  },
  {
   "cell_type": "code",
   "execution_count": null,
   "metadata": {},
   "outputs": [],
   "source": [
    ":i Cart2DVec'\n",
    ":t MkCart2DVec'\n",
    "\n",
    ":t MkCart2DVec' 1 2\n",
    ":t MkCart2DVec' 1.0 2.0\n",
    ":t MkCart2DVec' 1.0 2\n",
    ":t xCoord' $ MkCart2DVec' 5 10\n",
    "yCoord' $ MkCart2DVec' 5.0 10.0"
   ]
  },
  {
   "cell_type": "code",
   "execution_count": null,
   "metadata": {},
   "outputs": [],
   "source": [
    "data Cart2DVec'' a = MkCart2DVec'' {x::a, y::a}\n",
    "\n",
    "xCoord'' :: Cart2DVec'' a -> a\n",
    "xCoord'' (MkCart2DVec'' {x = xVal, y = _}) = xVal\n",
    "\n",
    "yCoord'' :: Cart2DVec'' a -> a\n",
    "yCoord'' (MkCart2DVec'' {y = yVal, x = _}) = yVal -- uwaga na kolejność x,y"
   ]
  },
  {
   "cell_type": "code",
   "execution_count": null,
   "metadata": {},
   "outputs": [],
   "source": [
    ":i Cart2DVec''\n",
    ":t MkCart2DVec''\n",
    ":t xCoord''\n",
    ":t yCoord''\n",
    ":t x\n",
    ":t y\n",
    "\n",
    "let p23 = MkCart2DVec'' {x = 2, y = 3}\n",
    "xCoord'' p23\n",
    "x p23\n",
    "yCoord'' p23\n",
    "y p23\n",
    "\n",
    "xCoord'' $ MkCart2DVec'' {x=1, y=2}\n",
    "xCoord'' $ MkCart2DVec'' 1 2\n",
    "yCoord'' $ MkCart2DVec'' {x=1, y=2}\n",
    "yCoord'' $ MkCart2DVec'' 1 2"
   ]
  },
  {
   "cell_type": "code",
   "execution_count": null,
   "metadata": {},
   "outputs": [],
   "source": [
    "data Cart2DVec'' a = MkCart2DVec'' {x::a, y::a}"
   ]
  },
  {
   "cell_type": "code",
   "execution_count": null,
   "metadata": {},
   "outputs": [],
   "source": [
    ":i Cart2DVec''\n",
    ":t MkCart2DVec''\n",
    ":t x\n",
    ":t y\n",
    "\n",
    "let p23 = MkCart2DVec'' {x = 2, y = 3}\n",
    "x p23\n",
    "y p23"
   ]
  },
  {
   "cell_type": "code",
   "execution_count": null,
   "metadata": {},
   "outputs": [],
   "source": [
    "-- sum type example (two constructors)\n",
    "data List a = EmptyL | Cons a (List a) deriving Show\n",
    "\n",
    "head' :: List a -> a\n",
    "head' EmptyL      = error \"head': the empty list has no head!\"\n",
    "head' (Cons x xs) = x"
   ]
  },
  {
   "cell_type": "code",
   "execution_count": null,
   "metadata": {},
   "outputs": [],
   "source": [
    "head' EmptyL"
   ]
  },
  {
   "cell_type": "code",
   "execution_count": null,
   "metadata": {},
   "outputs": [],
   "source": [
    "head' (Cons 1 EmptyL)\n",
    "head' $ Cons 1 EmptyL\n",
    "Cons 1 EmptyL -- show in action :)\n",
    "head' $ Cons 1 $ Cons 2 EmptyL"
   ]
  },
  {
   "cell_type": "code",
   "execution_count": null,
   "metadata": {},
   "outputs": [],
   "source": [
    "-- enum type example (special case of sum type)\n",
    "data ThreeColors = Blue |\n",
    "                   White |\n",
    "                   Red\n",
    "\n",
    "type ActorName = String\n",
    "\n",
    "leadingActor :: ThreeColors -> ActorName\n",
    "leadingActor Blue  = \"Juliette Binoche\"\n",
    "leadingActor White = \"Zbigniew Zamachowski\"\n",
    "leadingActor Red   = \"Irene Jacob\""
   ]
  },
  {
   "cell_type": "markdown",
   "metadata": {},
   "source": [
    "zadania"
   ]
  },
  {
   "cell_type": "code",
   "execution_count": null,
   "metadata": {},
   "outputs": [],
   "source": [
    "--1\n",
    "\n",
    "data Cart3DVec a = Cart3DVec a a a\n",
    "\n",
    "xCoord :: Cart3DVec a -> a\n",
    "xCoord (Cart3DVec x _ _) = x\n",
    "\n",
    "yCoord :: Cart3DVec a -> a\n",
    "yCoord (Cart3DVec _ y _) = y\n",
    "\n",
    "zCoord :: Cart3DVec a -> a\n",
    "zCoord (Cart3DVec _ _ z) = z\n",
    "\n",
    "let p =  Cart3DVec 1 2 6\n",
    "\n",
    "xCoord p\n",
    "\n",
    "yCoord p\n",
    "\n",
    "zCoord p"
   ]
  },
  {
   "cell_type": "code",
   "execution_count": null,
   "metadata": {},
   "outputs": [],
   "source": [
    "-- 2\n",
    "data Cart3DVec'' a = MkCart3DVec'' {x::a, y::a, z::a}\n",
    "\n",
    ":t x\n",
    ":t y\n",
    ":t z"
   ]
  },
  {
   "cell_type": "code",
   "execution_count": null,
   "metadata": {},
   "outputs": [],
   "source": [
    "--6 \n",
    "\n",
    "data Shape = Circle Float |\n",
    "             Rectangle Float Float\n",
    "             \n",
    "area :: Shape -> Float\n",
    "\n",
    "area (Circle r) = pi * r^2\n",
    "area (Rectangle x y) = x * y\n",
    "\n",
    "area $ Circle 1.0\n",
    "area $ Rectangle 2.0 3.0"
   ]
  },
  {
   "cell_type": "code",
   "execution_count": null,
   "metadata": {},
   "outputs": [],
   "source": [
    "-- 8\n",
    "data TrafficLights = Red |\n",
    "                   Orange |\n",
    "                   Green\n",
    "\n",
    "\n",
    "actionFor :: TrafficLights -> String\n",
    "actionFor Red    = \"Stop\"\n",
    "actionFor Orange = \"Prepare\"\n",
    "actionFor Green  = \"Go\"\n",
    "\n",
    "actionFor Red\n",
    "actionFor Green\n",
    "actionFor Orange"
   ]
  },
  {
   "cell_type": "markdown",
   "metadata": {},
   "source": [
    "3."
   ]
  },
  {
   "cell_type": "code",
   "execution_count": null,
   "metadata": {},
   "outputs": [],
   "source": [
    "data BinIntTree = EmptyIntBT |\n",
    "                  IntNodeBT Int BinIntTree BinIntTree\n",
    "\n",
    "sumBinIntTree :: BinIntTree -> Int\n",
    "sumBinIntTree EmptyIntBT = 0\n",
    "sumBinIntTree (IntNodeBT n lt rt) = n + sumBinIntTree lt + sumBinIntTree rt"
   ]
  },
  {
   "cell_type": "code",
   "execution_count": null,
   "metadata": {},
   "outputs": [],
   "source": [
    "sumBinIntTree EmptyIntBT\n",
    "sumBinIntTree $ IntNodeBT 1 EmptyIntBT EmptyIntBT\n",
    "sumBinIntTree $ IntNodeBT 1 (IntNodeBT 2 EmptyIntBT EmptyIntBT) (IntNodeBT 3 EmptyIntBT EmptyIntBT)"
   ]
  },
  {
   "cell_type": "code",
   "execution_count": null,
   "metadata": {},
   "outputs": [],
   "source": [
    "data BinTree a = EmptyBT |\n",
    "                 NodeBT a (BinTree a) (BinTree a)\n",
    "\n",
    "sumBinTree :: (Num a) => BinTree a -> a\n",
    "sumBinTree EmptyBT = 0\n",
    "sumBinTree (NodeBT n lt rt) = n + sumBinTree lt + sumBinTree rt"
   ]
  },
  {
   "cell_type": "code",
   "execution_count": null,
   "metadata": {},
   "outputs": [],
   "source": [
    "sumBinTree EmptyBT\n",
    "sumBinTree $ NodeBT 1 EmptyBT EmptyBT\n",
    "sumBinTree (NodeBT 1 (NodeBT 2 EmptyBT EmptyBT) (NodeBT 3 EmptyBT EmptyBT))"
   ]
  },
  {
   "cell_type": "code",
   "execution_count": null,
   "metadata": {},
   "outputs": [],
   "source": [
    "data Expr a = Lit a | -- literal/value a, e.g. Lit 2 = 2\n",
    "              Add (Expr a) (Expr a)\n",
    "\n",
    "eval :: Num a => Expr a -> a\n",
    "eval (Lit n) = n\n",
    "eval (Add e1 e2) = eval e1 + eval e2\n",
    "\n",
    "show' :: Show a => Expr a -> String\n",
    "show' (Lit n) = show n\n",
    "show' (Add e1 e2) = \"(\" ++ show' e1 ++ \"+\" ++ show' e2 ++ \")\""
   ]
  },
  {
   "cell_type": "code",
   "execution_count": null,
   "metadata": {},
   "outputs": [],
   "source": [
    "show' (Lit 2)\n",
    "show' (Add (Lit 1) (Lit 2))\n",
    "eval (Lit 1)\n",
    "eval (Add (Lit 1) (Lit 2))"
   ]
  },
  {
   "cell_type": "markdown",
   "metadata": {},
   "source": [
    "zadania"
   ]
  },
  {
   "cell_type": "code",
   "execution_count": null,
   "metadata": {},
   "outputs": [],
   "source": [
    "depthOfBT :: BinTree a -> Int -- głębokość drzewa binarnego\n",
    "depthOfBT EmptyBT = 0\n",
    "depthOfBT (NodeBT n lt rt) = 1 + max (depthOfBT lt) (depthOfBT rt)\n",
    "depthOfBT (NodeBT 1 (NodeBT 2 EmptyBT EmptyBT) (NodeBT 3 EmptyBT EmptyBT))\n",
    "\n",
    "flattenBT :: BinTree a -> [a]  -- napisać trzy wersje: preorder,\n",
    "flattenBT EmptyBT = []\n",
    "flattenBT (NodeBT n lt rt) =  [n] ++ flattenBT lt ++ flattenBT rt\n",
    "flattenBT (NodeBT 1 (NodeBT 2 EmptyBT EmptyBT) (NodeBT 3 EmptyBT EmptyBT))\n",
    "\n",
    "flattenBT' :: BinTree a -> [a]  -- napisać trzy wersje: inorder, \n",
    "flattenBT' EmptyBT = []\n",
    "flattenBT' (NodeBT n lt rt) =  flattenBT lt ++ [n]  ++ flattenBT rt\n",
    "flattenBT' (NodeBT 1 (NodeBT 2 EmptyBT EmptyBT) (NodeBT 3 EmptyBT EmptyBT))\n",
    "\n",
    "flattenBT'' :: BinTree a -> [a]  -- napisać trzy wersje: inorder, postorder\n",
    "flattenBT'' EmptyBT = []\n",
    "flattenBT'' (NodeBT n lt rt) =  flattenBT lt ++ flattenBT rt ++ [n]\n",
    "flattenBT'' (NodeBT 1 (NodeBT 2 EmptyBT EmptyBT) (NodeBT 3 EmptyBT EmptyBT))\n",
    "\n",
    "mapBT :: (a -> b) -> BinTree a -> BinTree b -- funkcja map dla drzewa binarnego\n",
    "mapBT  f EmptyBT = EmptyBT\n",
    "mapBT f (NodeBT n lt rt) = (NodeBT (f n) (mapBT f lt) (mapBT f rt))\n",
    "flattenBT (mapBT (\\x -> x * 2 + 1) (NodeBT 1 (NodeBT 2 EmptyBT EmptyBT) (NodeBT 3 EmptyBT EmptyBT)))\n",
    "\n",
    "insert :: Ord a => a -> BinTree a -> BinTree a -- insert element into BinTree\n",
    "insert a EmptyBT = NodeBT a EmptyBT EmptyBT\n",
    "insert a (NodeBT n lt rt) \n",
    "    | a < n = NodeBT n (insert a lt) rt\n",
    "    | a > n =  NodeBT n lt  (insert a rt) \n",
    "    | a == n = NodeBT n lt rt\n",
    "\n",
    "flattenBT (insert 8 (NodeBT 1 (NodeBT 2 EmptyBT EmptyBT) (NodeBT 3 EmptyBT EmptyBT)))\n",
    "\n",
    "insert :: Ord a => a -> BinTree a -> BinTree a -- insert element into BinTree\n",
    "insert a EmptyBT = NodeBT a EmptyBT EmptyBT\n",
    "insert a (NodeBT n lt rt) \n",
    "    | (a < n) = NodeBT n (insert a lt) rt\n",
    "    | (a > n) =  NodeBT n lt  (insert a rt) \n",
    "    | (a ==n ) = (NodeBT n lt rt) \n",
    "\n",
    "flattenBT (insert 6 (NodeBT 1 (NodeBT 2 EmptyBT EmptyBT) (NodeBT 3 EmptyBT EmptyBT)) )\n",
    "let p1 =(insert 6 EmptyBT)                               \n",
    "let p2 = insert 12 p1\n",
    "let p3 = insert 124 p2\n",
    "let p4 = insert 2 p3\n",
    "let p5 = insert 1432 p4\n",
    "let p6 = insert 132 p5\n",
    "flattenBT p6"
   ]
  },
  {
   "cell_type": "code",
   "execution_count": null,
   "metadata": {},
   "outputs": [],
   "source": [
    "list2BST :: Ord a => [a] -> BinTree a -- list to Binary Search Tree (BST)\n",
    "list2BST xs = listToBst EmptyBT xs\n",
    "               where listToBst t [] = t\n",
    "                     listToBst t (x:xs) = listToBst (insert x t) xs  \n",
    "\n",
    "flattenBT (list2BST [123,3421,1221,0,12])"
   ]
  },
  {
   "cell_type": "code",
   "execution_count": null,
   "metadata": {},
   "outputs": [],
   "source": [
    "--6 Rozszerzyć definicję typu data Expr a o operacje odejmowania i mnożenia oraz zmodyfikować odpowiednio funkcje show' i eval\n",
    "\n",
    "data Expr a = Lit a | -- literal/value a, e.g. Lit 2 = 2\n",
    "              Add (Expr a) (Expr a) |\n",
    "              Sub (Expr a) (Expr a) |\n",
    "              Prod (Expr a) (Expr a)\n",
    "\n",
    "eval :: Num a => Expr a -> a\n",
    "eval (Lit n) = n\n",
    "eval (Add e1 e2) = eval e1 + eval e2\n",
    "eval (Sub e1 e2) = eval e1 - eval e2\n",
    "eval (Prod e1 e2) = eval e1 * eval e2\n",
    "\n",
    "show' :: Show a => Expr a -> String\n",
    "show' (Lit n) = show n\n",
    "show' (Add e1 e2) = \"(\" ++ show' e1 ++ \"+\" ++ show' e2 ++ \")\"\n",
    "show' (Sub e1 e2) = \"(\" ++ show' e1 ++ \"-\" ++ show' e2 ++ \")\"\n",
    "show' (Prod e1 e2) = \"(\" ++ show' e1 ++ \"*\" ++ show' e2 ++ \")\"\n",
    "\n",
    "show' (Lit 2)\n",
    "show' (Add (Lit 1) (Lit 2))\n",
    "eval (Lit 1)\n",
    "eval (Add (Lit 1) (Lit 2))\n",
    "\n",
    "\n",
    "show' (Sub (Lit 1) (Lit 2))\n",
    "eval (Sub (Lit 1) (Lit 2))\n",
    "\n",
    "\n",
    "show' (Prod (Lit 12) (Lit 2))\n",
    "eval (Prod (Lit 12) (Lit 2))"
   ]
  },
  {
   "cell_type": "markdown",
   "metadata": {},
   "source": [
    "4."
   ]
  },
  {
   "cell_type": "code",
   "execution_count": null,
   "metadata": {},
   "outputs": [],
   "source": [
    "data A0 = MkA0 Int\n",
    ":t MkA0 -- typ konstruktora danych (wartości)\n",
    ":k A0\n",
    "\n",
    "data A1 a = MkA1 a -- A1 - konstruktor typu\n",
    ":t MkA1\n",
    ":k A1  -- typ/'kind' konstruktora typu\n",
    "\n",
    "data A2Prod a b = MkA2Prod a b\n",
    ":t MkA2Prod\n",
    ":k A2Prod\n",
    "\n",
    "data A2Sum a b = A2SumA a | A2SumAB a b\n",
    ":t A2SumA -- typ pierwszego ('lewego') konstruktora danych\n",
    ":t A2SumAB -- typ drugiego ('prawego') konstruktora danych\n",
    ":k A2Sum\n",
    "\n",
    ":k A1 Double\n",
    ":k A2Prod Int -- 'partial application' of the type constructor\n",
    ":k A2Prod Int Bool"
   ]
  },
  {
   "cell_type": "code",
   "execution_count": null,
   "metadata": {},
   "outputs": [],
   "source": [
    ":i Maybe\n",
    ":k Maybe\n",
    ":k Maybe Int\n",
    "\n",
    ":i Either\n",
    ":k Either\n",
    ":k Either Int\n",
    ":k Either Int Double\n",
    "\n",
    ":i []\n",
    ":k []\n",
    ":k [Int]"
   ]
  },
  {
   "cell_type": "markdown",
   "metadata": {},
   "source": [
    "5."
   ]
  },
  {
   "cell_type": "code",
   "execution_count": null,
   "metadata": {},
   "outputs": [],
   "source": [
    "data MyInt = MkMyInt Int\n",
    "\n",
    "instance Eq MyInt where\n",
    "  (==) (MkMyInt i1) (MkMyInt i2) = i1 == i2\n",
    "  \n",
    "instance Ord MyInt where\n",
    "  (<=) (MkMyInt i1) (MkMyInt i2) = i1 <= i2\n",
    "  \n",
    "instance Num MyInt where\n",
    "  (+) (MkMyInt i1) (MkMyInt i2) = MkMyInt (i1 + i2)\n",
    "  (-) (MkMyInt i1) (MkMyInt i2) = MkMyInt (i1 - i2)\n",
    "  (*) (MkMyInt i1) (MkMyInt i2) = MkMyInt (i1 * i2)\n",
    "  negate (MkMyInt i)            = MkMyInt (negate i)\n",
    "  abs (MkMyInt i)               = MkMyInt (abs i)\n",
    "  signum (MkMyInt i)            = MkMyInt (signum i)\n",
    "  fromInteger int               = MkMyInt (fromIntegral int)\n",
    "  \n",
    "instance Show MyInt where\n",
    "  show (MkMyInt i) = \"MkMyInt \" ++ show i"
   ]
  },
  {
   "cell_type": "code",
   "execution_count": null,
   "metadata": {},
   "outputs": [],
   "source": [
    "MkMyInt 1 == MkMyInt 1\n",
    "MkMyInt 1 == MkMyInt 2\n",
    "MkMyInt 1 <= MkMyInt 2\n",
    "\n",
    "\n",
    ":i Ord \n",
    "\n",
    ":i Num \n",
    "\n",
    "MkMyInt 1 + MkMyInt 2\n",
    "\n",
    "MkMyInt 1\n",
    ":i Show \n",
    "\n",
    "MkMyInt 1 + MkMyInt 2\n",
    "MkMyInt 5\n",
    "(MkMyInt 2) * (MkMyInt 3 + MkMyInt 4)\n"
   ]
  },
  {
   "cell_type": "markdown",
   "metadata": {},
   "source": [
    "zadania"
   ]
  },
  {
   "cell_type": "code",
   "execution_count": null,
   "metadata": {},
   "outputs": [],
   "source": [
    "\n",
    "--1\n",
    "newtype MyInt = MkMyInt Int\n",
    "\n",
    "instance Eq MyInt where\n",
    "  (==) (MkMyInt i1) (MkMyInt i2) = i1 == i2\n",
    "  \n",
    "instance Ord MyInt where\n",
    "  (<=) (MkMyInt i1) (MkMyInt i2) = i1 <= i2\n",
    "  \n",
    "instance Num MyInt where\n",
    "  (+) (MkMyInt i1) (MkMyInt i2) = MkMyInt (i1 + i2)\n",
    "  (-) (MkMyInt i1) (MkMyInt i2) = MkMyInt (i1 - i2)\n",
    "  (*) (MkMyInt i1) (MkMyInt i2) = MkMyInt (i1 * i2)\n",
    "  negate (MkMyInt i)            = MkMyInt (negate i)\n",
    "  abs (MkMyInt i)               = MkMyInt (abs i)\n",
    "  signum (MkMyInt i)            = MkMyInt (signum i)\n",
    "  fromInteger int               = MkMyInt (fromIntegral int)\n",
    "  \n",
    "instance Show MyInt where\n",
    "  show (MkMyInt i) = \"MkMyInt \" ++ show i"
   ]
  },
  {
   "cell_type": "code",
   "execution_count": null,
   "metadata": {},
   "outputs": [],
   "source": [
    "MkMyInt 1 == MkMyInt 1\n",
    "MkMyInt 1 == MkMyInt 2\n",
    "MkMyInt 1 <= MkMyInt 2\n",
    "\n",
    "\n",
    ":i Ord \n",
    "\n",
    ":i Num \n",
    "\n",
    "MkMyInt 1 + MkMyInt 2\n",
    "\n",
    "MkMyInt 1\n",
    ":i Show \n",
    "\n",
    "MkMyInt 1 + MkMyInt 2\n",
    "MkMyInt 5\n",
    "(MkMyInt 2) * (MkMyInt 3 + MkMyInt 4)"
   ]
  },
  {
   "cell_type": "code",
   "execution_count": null,
   "metadata": {},
   "outputs": [],
   "source": [
    "instance Eq a => Eq (BinTree a) where\n",
    "    (==) (NodeBT n lt rt) (NodeBT n2 lt2 rt2) = n == n2 && lt == lt2 && rt == rt2 \n",
    "    (==) (NodeBT n lt rt) EmptyBT = False\n",
    "    (==) EmptyBT (NodeBT n lt rt) = False\n",
    "    (==) EmptyBT EmptyBT = True\n",
    "    \n",
    "    \n",
    "NodeBT 1 (NodeBT 2 EmptyBT EmptyBT) (NodeBT 3 EmptyBT EmptyBT) == NodeBT 1 (NodeBT 2 EmptyBT EmptyBT) (NodeBT 3 EmptyBT EmptyBT)\n",
    "NodeBT 1 (NodeBT 2 EmptyBT EmptyBT) (NodeBT 4 EmptyBT EmptyBT) == NodeBT 1 (NodeBT 2 EmptyBT EmptyBT) (NodeBT 3 EmptyBT EmptyBT)"
   ]
  },
  {
   "cell_type": "markdown",
   "metadata": {},
   "source": [
    "6."
   ]
  },
  {
   "cell_type": "code",
   "execution_count": null,
   "metadata": {},
   "outputs": [],
   "source": [
    "class Mappable t where\n",
    "  fMap :: (a -> b) -> t a -> t b\n",
    "\n",
    "data Vec3D a = Vec3D {x::a, y::a, z::a} deriving Show\n",
    "\n",
    "instance Mappable Vec3D where\n",
    "  fMap f (Vec3D x y z) = Vec3D (f x) (f y) (f z)"
   ]
  },
  {
   "cell_type": "code",
   "execution_count": null,
   "metadata": {},
   "outputs": [],
   "source": [
    "fMap id (Vec3D 1 2 3)\n",
    "fMap (+1) (Vec3D 1 2 3)\n",
    "fMap (const 1) (Vec3D 1 2 3)\n",
    "fMap sqrt (Vec3D 1 2 3)\n",
    "fMap abs (Vec3D (-1) (-2) 3)"
   ]
  },
  {
   "cell_type": "code",
   "execution_count": null,
   "metadata": {},
   "outputs": [],
   "source": [
    "newtype Pair a = Pair (a,a) deriving Show\n",
    "\n",
    "instance Mappable Pair where\n",
    "  fMap f (Pair (x,y)) = Pair (f x, f y)"
   ]
  },
  {
   "cell_type": "code",
   "execution_count": null,
   "metadata": {},
   "outputs": [],
   "source": [
    "fMap (+1) $ Pair (1,2)\n",
    "fMap (length) $ Pair ([1..5], [1..100])\n",
    "fMap ($! 3) $ Pair ((^2), (^3))\n",
    "fMap ($ 2) $ fMap ((.) (\\x -> x + 10)) $ Pair ((^2), (^3))"
   ]
  },
  {
   "cell_type": "markdown",
   "metadata": {},
   "source": [
    "zadania"
   ]
  },
  {
   "cell_type": "code",
   "execution_count": null,
   "metadata": {},
   "outputs": [],
   "source": [
    "--1\n",
    "\n",
    "data BinTree a = EmptyBT |\n",
    "                 NodeBT a (BinTree a) (BinTree a)\n",
    "                 deriving Show\n",
    "                 \n",
    "instance Mappable BinTree where\n",
    "  fMap f (NodeBT n lt rt) = NodeBT ((f n) (fMap f lt) (fMap f rt))\n",
    "  fMap f EmptyBT = EmptyBT\n",
    "  \n",
    "fMap (+2) (NodeBT 1 (NodeBT 2 EmptyBT EmptyBT) (NodeBT 3 EmptyBT EmptyBT))"
   ]
  },
  {
   "cell_type": "code",
   "execution_count": null,
   "metadata": {},
   "outputs": [],
   "source": [
    "--2 \n",
    "instance Mappable Maybe where\n",
    "    fMap  f Nothing = Nothing\n",
    "    fMap  f (Just x) = Just (f x)\n",
    "    \n",
    "let p = Just 6\n",
    "fMap (+2) p\n",
    "\n",
    "let p = Nothing\n",
    "fMap (+2) p"
   ]
  },
  {
   "cell_type": "markdown",
   "metadata": {},
   "source": [
    "7."
   ]
  },
  {
   "cell_type": "code",
   "execution_count": null,
   "metadata": {},
   "outputs": [],
   "source": [
    "module Stack (Stack(MkStack), empty, isEmpty, push, top, pop) where\n",
    "\n",
    "empty :: Stack a\n",
    "isEmpty :: Stack a -> Bool\n",
    "push :: a -> Stack a -> Stack a\n",
    "top :: Stack a -> a\n",
    "pop :: Stack a -> (a,Stack a)\n",
    "\n",
    "newtype Stack a = MkStack [a] deriving Show\n",
    "\n",
    "empty = MkStack []\n",
    "isEmpty (MkStack s) = null s\n",
    "push x (MkStack s) = MkStack (x:s)\n",
    "top (MkStack s) = head s\n",
    "pop (MkStack (s:ss)) = (s,MkStack ss)\n",
    "\n",
    "\n"
   ]
  },
  {
   "cell_type": "code",
   "execution_count": null,
   "metadata": {},
   "outputs": [],
   "source": [
    "import Stack (push, pop)\n",
    ":i Stack\n",
    ":t pop\n",
    ":t Stack.pop"
   ]
  },
  {
   "cell_type": "markdown",
   "metadata": {},
   "source": [
    "Zadania"
   ]
  },
  {
   "cell_type": "code",
   "execution_count": null,
   "metadata": {},
   "outputs": [],
   "source": [
    "\n",
    "--1.\n",
    ":module -Stack\n",
    "import qualified Stack (push, pop)\n",
    ":t Stack.pop\n",
    "\n"
   ]
  },
  {
   "cell_type": "code",
   "execution_count": null,
   "metadata": {},
   "outputs": [],
   "source": [
    ":module -Stack\n",
    "import Stack hiding (push, pop)\n",
    "\n",
    ":t top\n",
    ":t push"
   ]
  },
  {
   "cell_type": "code",
   "execution_count": null,
   "metadata": {},
   "outputs": [],
   "source": [
    ":module -Stack\n",
    "import qualified Stack hiding (push, pop)\n",
    "\n",
    ":t Stack.top\n",
    ":t Stack.push"
   ]
  },
  {
   "cell_type": "code",
   "execution_count": null,
   "metadata": {},
   "outputs": [],
   "source": [
    ":module -Stack\n",
    "import Stack as S\n",
    ":t S.pop\n",
    ":t S.top\n",
    ":t pop"
   ]
  },
  {
   "cell_type": "code",
   "execution_count": null,
   "metadata": {},
   "outputs": [],
   "source": [
    ":module -Stack\n",
    "import Stack as S (push, pop)\n",
    ":t S.pop\n",
    ":t S.top\n"
   ]
  },
  {
   "cell_type": "code",
   "execution_count": null,
   "metadata": {},
   "outputs": [],
   "source": [
    ":module -Stack\n",
    "import qualified Stack as S\n",
    ":t S.pop\n",
    ":t pop"
   ]
  },
  {
   "cell_type": "code",
   "execution_count": null,
   "metadata": {},
   "outputs": [],
   "source": [
    ":module -Stack\n",
    "import qualified Stack as S (push, pop)\n",
    ":t S.pop\n",
    ":t S.top"
   ]
  },
  {
   "cell_type": "code",
   "execution_count": 82,
   "metadata": {},
   "outputs": [],
   "source": [
    "--2\n",
    "\n",
    "module Stack (Stack(..), isEmpty, push, pop) where\n",
    "\n",
    "empty :: Stack a\n",
    "isEmpty :: Stack a -> Bool\n",
    "push :: a -> Stack a -> Stack a\n",
    "top :: Stack a -> a\n",
    "pop :: Stack a -> (a,Stack a)\n",
    "\n",
    "newtype Stack a = MkStack [a] deriving Show\n",
    "\n",
    "empty = MkStack []\n",
    "isEmpty (MkStack s) = null s\n",
    "push x (MkStack s) = MkStack (x:s)\n",
    "top (MkStack s) = head s\n",
    "pop (MkStack (s:ss)) = (s,MkStack ss)"
   ]
  },
  {
   "cell_type": "code",
   "execution_count": 92,
   "metadata": {},
   "outputs": [
    {
     "data": {},
     "metadata": {},
     "output_type": "display_data"
    },
    {
     "data": {
      "text/html": [
       "<style>/* Styles used for the Hoogle display in the pager */\n",
       ".hoogle-doc {\n",
       "display: block;\n",
       "padding-bottom: 1.3em;\n",
       "padding-left: 0.4em;\n",
       "}\n",
       ".hoogle-code {\n",
       "display: block;\n",
       "font-family: monospace;\n",
       "white-space: pre;\n",
       "}\n",
       ".hoogle-text {\n",
       "display: block;\n",
       "}\n",
       ".hoogle-name {\n",
       "color: green;\n",
       "font-weight: bold;\n",
       "}\n",
       ".hoogle-head {\n",
       "font-weight: bold;\n",
       "}\n",
       ".hoogle-sub {\n",
       "display: block;\n",
       "margin-left: 0.4em;\n",
       "}\n",
       ".hoogle-package {\n",
       "font-weight: bold;\n",
       "font-style: italic;\n",
       "}\n",
       ".hoogle-module {\n",
       "font-weight: bold;\n",
       "}\n",
       ".hoogle-class {\n",
       "font-weight: bold;\n",
       "}\n",
       ".get-type {\n",
       "color: green;\n",
       "font-weight: bold;\n",
       "font-family: monospace;\n",
       "display: block;\n",
       "white-space: pre-wrap;\n",
       "}\n",
       ".show-type {\n",
       "color: green;\n",
       "font-weight: bold;\n",
       "font-family: monospace;\n",
       "margin-left: 1em;\n",
       "}\n",
       ".mono {\n",
       "font-family: monospace;\n",
       "display: block;\n",
       "}\n",
       ".err-msg {\n",
       "color: red;\n",
       "font-style: italic;\n",
       "font-family: monospace;\n",
       "white-space: pre;\n",
       "display: block;\n",
       "}\n",
       "#unshowable {\n",
       "color: red;\n",
       "font-weight: bold;\n",
       "}\n",
       ".err-msg.in.collapse {\n",
       "padding-top: 0.7em;\n",
       "}\n",
       ".highlight-code {\n",
       "white-space: pre;\n",
       "font-family: monospace;\n",
       "}\n",
       ".suggestion-warning { \n",
       "font-weight: bold;\n",
       "color: rgb(200, 130, 0);\n",
       "}\n",
       ".suggestion-error { \n",
       "font-weight: bold;\n",
       "color: red;\n",
       "}\n",
       ".suggestion-name {\n",
       "font-weight: bold;\n",
       "}\n",
       "</style><span class='get-type'>MkStack :: forall a. [a] -> Stack a</span>"
      ],
      "text/plain": [
       "MkStack :: forall a. [a] -> Stack a"
      ]
     },
     "metadata": {},
     "output_type": "display_data"
    },
    {
     "data": {},
     "metadata": {},
     "output_type": "display_data"
    },
    {
     "data": {},
     "metadata": {},
     "output_type": "display_data"
    },
    {
     "data": {
      "text/html": [
       "<style>/* Styles used for the Hoogle display in the pager */\n",
       ".hoogle-doc {\n",
       "display: block;\n",
       "padding-bottom: 1.3em;\n",
       "padding-left: 0.4em;\n",
       "}\n",
       ".hoogle-code {\n",
       "display: block;\n",
       "font-family: monospace;\n",
       "white-space: pre;\n",
       "}\n",
       ".hoogle-text {\n",
       "display: block;\n",
       "}\n",
       ".hoogle-name {\n",
       "color: green;\n",
       "font-weight: bold;\n",
       "}\n",
       ".hoogle-head {\n",
       "font-weight: bold;\n",
       "}\n",
       ".hoogle-sub {\n",
       "display: block;\n",
       "margin-left: 0.4em;\n",
       "}\n",
       ".hoogle-package {\n",
       "font-weight: bold;\n",
       "font-style: italic;\n",
       "}\n",
       ".hoogle-module {\n",
       "font-weight: bold;\n",
       "}\n",
       ".hoogle-class {\n",
       "font-weight: bold;\n",
       "}\n",
       ".get-type {\n",
       "color: green;\n",
       "font-weight: bold;\n",
       "font-family: monospace;\n",
       "display: block;\n",
       "white-space: pre-wrap;\n",
       "}\n",
       ".show-type {\n",
       "color: green;\n",
       "font-weight: bold;\n",
       "font-family: monospace;\n",
       "margin-left: 1em;\n",
       "}\n",
       ".mono {\n",
       "font-family: monospace;\n",
       "display: block;\n",
       "}\n",
       ".err-msg {\n",
       "color: red;\n",
       "font-style: italic;\n",
       "font-family: monospace;\n",
       "white-space: pre;\n",
       "display: block;\n",
       "}\n",
       "#unshowable {\n",
       "color: red;\n",
       "font-weight: bold;\n",
       "}\n",
       ".err-msg.in.collapse {\n",
       "padding-top: 0.7em;\n",
       "}\n",
       ".highlight-code {\n",
       "white-space: pre;\n",
       "font-family: monospace;\n",
       "}\n",
       ".suggestion-warning { \n",
       "font-weight: bold;\n",
       "color: rgb(200, 130, 0);\n",
       "}\n",
       ".suggestion-error { \n",
       "font-weight: bold;\n",
       "color: red;\n",
       "}\n",
       ".suggestion-name {\n",
       "font-weight: bold;\n",
       "}\n",
       "</style><span class='get-type'>Stack.top :: forall a. Stack a -> a</span>"
      ],
      "text/plain": [
       "Stack.top :: forall a. Stack a -> a"
      ]
     },
     "metadata": {},
     "output_type": "display_data"
    }
   ],
   "source": [
    "\n",
    ":module -Stack\n",
    "import Stack\n",
    ":i Stack\n",
    ":t MkStack\n",
    ":i push\n",
    ":i isEmpty\n",
    ":t Stack.top"
   ]
  },
  {
   "cell_type": "code",
   "execution_count": 85,
   "metadata": {},
   "outputs": [],
   "source": [
    "--3\n",
    "\n",
    "module Stack (Stack, push, pop) where\n",
    "\n",
    "empty :: Stack a\n",
    "isEmpty :: Stack a -> Bool\n",
    "push :: a -> Stack a -> Stack a\n",
    "top :: Stack a -> a\n",
    "pop :: Stack a -> (a,Stack a)\n",
    "\n",
    "newtype Stack a = MkStack [a] deriving Show\n",
    "\n",
    "empty = MkStack []\n",
    "isEmpty (MkStack s) = null s\n",
    "push x (MkStack s) = MkStack (x:s)\n",
    "top (MkStack s) = head s\n",
    "pop (MkStack (s:ss)) = (s,MkStack ss)"
   ]
  },
  {
   "cell_type": "code",
   "execution_count": 91,
   "metadata": {},
   "outputs": [
    {
     "data": {},
     "metadata": {},
     "output_type": "display_data"
    },
    {
     "data": {
      "text/html": [
       "<style>/* Styles used for the Hoogle display in the pager */\n",
       ".hoogle-doc {\n",
       "display: block;\n",
       "padding-bottom: 1.3em;\n",
       "padding-left: 0.4em;\n",
       "}\n",
       ".hoogle-code {\n",
       "display: block;\n",
       "font-family: monospace;\n",
       "white-space: pre;\n",
       "}\n",
       ".hoogle-text {\n",
       "display: block;\n",
       "}\n",
       ".hoogle-name {\n",
       "color: green;\n",
       "font-weight: bold;\n",
       "}\n",
       ".hoogle-head {\n",
       "font-weight: bold;\n",
       "}\n",
       ".hoogle-sub {\n",
       "display: block;\n",
       "margin-left: 0.4em;\n",
       "}\n",
       ".hoogle-package {\n",
       "font-weight: bold;\n",
       "font-style: italic;\n",
       "}\n",
       ".hoogle-module {\n",
       "font-weight: bold;\n",
       "}\n",
       ".hoogle-class {\n",
       "font-weight: bold;\n",
       "}\n",
       ".get-type {\n",
       "color: green;\n",
       "font-weight: bold;\n",
       "font-family: monospace;\n",
       "display: block;\n",
       "white-space: pre-wrap;\n",
       "}\n",
       ".show-type {\n",
       "color: green;\n",
       "font-weight: bold;\n",
       "font-family: monospace;\n",
       "margin-left: 1em;\n",
       "}\n",
       ".mono {\n",
       "font-family: monospace;\n",
       "display: block;\n",
       "}\n",
       ".err-msg {\n",
       "color: red;\n",
       "font-style: italic;\n",
       "font-family: monospace;\n",
       "white-space: pre;\n",
       "display: block;\n",
       "}\n",
       "#unshowable {\n",
       "color: red;\n",
       "font-weight: bold;\n",
       "}\n",
       ".err-msg.in.collapse {\n",
       "padding-top: 0.7em;\n",
       "}\n",
       ".highlight-code {\n",
       "white-space: pre;\n",
       "font-family: monospace;\n",
       "}\n",
       ".suggestion-warning { \n",
       "font-weight: bold;\n",
       "color: rgb(200, 130, 0);\n",
       "}\n",
       ".suggestion-error { \n",
       "font-weight: bold;\n",
       "color: red;\n",
       "}\n",
       ".suggestion-name {\n",
       "font-weight: bold;\n",
       "}\n",
       "</style><span class='get-type'>MkStack :: forall a. [a] -> Stack a</span>"
      ],
      "text/plain": [
       "MkStack :: forall a. [a] -> Stack a"
      ]
     },
     "metadata": {},
     "output_type": "display_data"
    },
    {
     "data": {
      "text/html": [
       "<style>/* Styles used for the Hoogle display in the pager */\n",
       ".hoogle-doc {\n",
       "display: block;\n",
       "padding-bottom: 1.3em;\n",
       "padding-left: 0.4em;\n",
       "}\n",
       ".hoogle-code {\n",
       "display: block;\n",
       "font-family: monospace;\n",
       "white-space: pre;\n",
       "}\n",
       ".hoogle-text {\n",
       "display: block;\n",
       "}\n",
       ".hoogle-name {\n",
       "color: green;\n",
       "font-weight: bold;\n",
       "}\n",
       ".hoogle-head {\n",
       "font-weight: bold;\n",
       "}\n",
       ".hoogle-sub {\n",
       "display: block;\n",
       "margin-left: 0.4em;\n",
       "}\n",
       ".hoogle-package {\n",
       "font-weight: bold;\n",
       "font-style: italic;\n",
       "}\n",
       ".hoogle-module {\n",
       "font-weight: bold;\n",
       "}\n",
       ".hoogle-class {\n",
       "font-weight: bold;\n",
       "}\n",
       ".get-type {\n",
       "color: green;\n",
       "font-weight: bold;\n",
       "font-family: monospace;\n",
       "display: block;\n",
       "white-space: pre-wrap;\n",
       "}\n",
       ".show-type {\n",
       "color: green;\n",
       "font-weight: bold;\n",
       "font-family: monospace;\n",
       "margin-left: 1em;\n",
       "}\n",
       ".mono {\n",
       "font-family: monospace;\n",
       "display: block;\n",
       "}\n",
       ".err-msg {\n",
       "color: red;\n",
       "font-style: italic;\n",
       "font-family: monospace;\n",
       "white-space: pre;\n",
       "display: block;\n",
       "}\n",
       "#unshowable {\n",
       "color: red;\n",
       "font-weight: bold;\n",
       "}\n",
       ".err-msg.in.collapse {\n",
       "padding-top: 0.7em;\n",
       "}\n",
       ".highlight-code {\n",
       "white-space: pre;\n",
       "font-family: monospace;\n",
       "}\n",
       ".suggestion-warning { \n",
       "font-weight: bold;\n",
       "color: rgb(200, 130, 0);\n",
       "}\n",
       ".suggestion-error { \n",
       "font-weight: bold;\n",
       "color: red;\n",
       "}\n",
       ".suggestion-name {\n",
       "font-weight: bold;\n",
       "}\n",
       "</style><span class='get-type'>Stack.top :: forall a. Stack a -> a</span>"
      ],
      "text/plain": [
       "Stack.top :: forall a. Stack a -> a"
      ]
     },
     "metadata": {},
     "output_type": "display_data"
    }
   ],
   "source": [
    ":module -Stack\n",
    "import Stack\n",
    ":i Stack\n",
    ":t MkStack\n",
    ":t Stack.top"
   ]
  },
  {
   "cell_type": "code",
   "execution_count": 87,
   "metadata": {},
   "outputs": [],
   "source": [
    "module Stack (module Stack) where\n",
    "\n",
    "empty :: Stack a\n",
    "isEmpty :: Stack a -> Bool\n",
    "push :: a -> Stack a -> Stack a\n",
    "top :: Stack a -> a\n",
    "pop :: Stack a -> (a,Stack a)\n",
    "\n",
    "newtype Stack a = MkStack [a] deriving Show\n",
    "\n",
    "empty = MkStack []\n",
    "isEmpty (MkStack s) = null s\n",
    "push x (MkStack s) = MkStack (x:s)\n",
    "top (MkStack s) = head s\n",
    "pop (MkStack (s:ss)) = (s,MkStack ss)"
   ]
  },
  {
   "cell_type": "code",
   "execution_count": 99,
   "metadata": {},
   "outputs": [
    {
     "data": {},
     "metadata": {},
     "output_type": "display_data"
    },
    {
     "data": {
      "text/html": [
       "<style>/* Styles used for the Hoogle display in the pager */\n",
       ".hoogle-doc {\n",
       "display: block;\n",
       "padding-bottom: 1.3em;\n",
       "padding-left: 0.4em;\n",
       "}\n",
       ".hoogle-code {\n",
       "display: block;\n",
       "font-family: monospace;\n",
       "white-space: pre;\n",
       "}\n",
       ".hoogle-text {\n",
       "display: block;\n",
       "}\n",
       ".hoogle-name {\n",
       "color: green;\n",
       "font-weight: bold;\n",
       "}\n",
       ".hoogle-head {\n",
       "font-weight: bold;\n",
       "}\n",
       ".hoogle-sub {\n",
       "display: block;\n",
       "margin-left: 0.4em;\n",
       "}\n",
       ".hoogle-package {\n",
       "font-weight: bold;\n",
       "font-style: italic;\n",
       "}\n",
       ".hoogle-module {\n",
       "font-weight: bold;\n",
       "}\n",
       ".hoogle-class {\n",
       "font-weight: bold;\n",
       "}\n",
       ".get-type {\n",
       "color: green;\n",
       "font-weight: bold;\n",
       "font-family: monospace;\n",
       "display: block;\n",
       "white-space: pre-wrap;\n",
       "}\n",
       ".show-type {\n",
       "color: green;\n",
       "font-weight: bold;\n",
       "font-family: monospace;\n",
       "margin-left: 1em;\n",
       "}\n",
       ".mono {\n",
       "font-family: monospace;\n",
       "display: block;\n",
       "}\n",
       ".err-msg {\n",
       "color: red;\n",
       "font-style: italic;\n",
       "font-family: monospace;\n",
       "white-space: pre;\n",
       "display: block;\n",
       "}\n",
       "#unshowable {\n",
       "color: red;\n",
       "font-weight: bold;\n",
       "}\n",
       ".err-msg.in.collapse {\n",
       "padding-top: 0.7em;\n",
       "}\n",
       ".highlight-code {\n",
       "white-space: pre;\n",
       "font-family: monospace;\n",
       "}\n",
       ".suggestion-warning { \n",
       "font-weight: bold;\n",
       "color: rgb(200, 130, 0);\n",
       "}\n",
       ".suggestion-error { \n",
       "font-weight: bold;\n",
       "color: red;\n",
       "}\n",
       ".suggestion-name {\n",
       "font-weight: bold;\n",
       "}\n",
       "</style><span class='get-type'>MkStack :: forall a. [a] -> Stack a</span>"
      ],
      "text/plain": [
       "MkStack :: forall a. [a] -> Stack a"
      ]
     },
     "metadata": {},
     "output_type": "display_data"
    },
    {
     "data": {
      "text/html": [
       "<style>/* Styles used for the Hoogle display in the pager */\n",
       ".hoogle-doc {\n",
       "display: block;\n",
       "padding-bottom: 1.3em;\n",
       "padding-left: 0.4em;\n",
       "}\n",
       ".hoogle-code {\n",
       "display: block;\n",
       "font-family: monospace;\n",
       "white-space: pre;\n",
       "}\n",
       ".hoogle-text {\n",
       "display: block;\n",
       "}\n",
       ".hoogle-name {\n",
       "color: green;\n",
       "font-weight: bold;\n",
       "}\n",
       ".hoogle-head {\n",
       "font-weight: bold;\n",
       "}\n",
       ".hoogle-sub {\n",
       "display: block;\n",
       "margin-left: 0.4em;\n",
       "}\n",
       ".hoogle-package {\n",
       "font-weight: bold;\n",
       "font-style: italic;\n",
       "}\n",
       ".hoogle-module {\n",
       "font-weight: bold;\n",
       "}\n",
       ".hoogle-class {\n",
       "font-weight: bold;\n",
       "}\n",
       ".get-type {\n",
       "color: green;\n",
       "font-weight: bold;\n",
       "font-family: monospace;\n",
       "display: block;\n",
       "white-space: pre-wrap;\n",
       "}\n",
       ".show-type {\n",
       "color: green;\n",
       "font-weight: bold;\n",
       "font-family: monospace;\n",
       "margin-left: 1em;\n",
       "}\n",
       ".mono {\n",
       "font-family: monospace;\n",
       "display: block;\n",
       "}\n",
       ".err-msg {\n",
       "color: red;\n",
       "font-style: italic;\n",
       "font-family: monospace;\n",
       "white-space: pre;\n",
       "display: block;\n",
       "}\n",
       "#unshowable {\n",
       "color: red;\n",
       "font-weight: bold;\n",
       "}\n",
       ".err-msg.in.collapse {\n",
       "padding-top: 0.7em;\n",
       "}\n",
       ".highlight-code {\n",
       "white-space: pre;\n",
       "font-family: monospace;\n",
       "}\n",
       ".suggestion-warning { \n",
       "font-weight: bold;\n",
       "color: rgb(200, 130, 0);\n",
       "}\n",
       ".suggestion-error { \n",
       "font-weight: bold;\n",
       "color: red;\n",
       "}\n",
       ".suggestion-name {\n",
       "font-weight: bold;\n",
       "}\n",
       "</style><span class='get-type'>pop :: forall a. Stack a -> (a, Stack a)</span>"
      ],
      "text/plain": [
       "pop :: forall a. Stack a -> (a, Stack a)"
      ]
     },
     "metadata": {},
     "output_type": "display_data"
    },
    {
     "data": {
      "text/html": [
       "<style>/* Styles used for the Hoogle display in the pager */\n",
       ".hoogle-doc {\n",
       "display: block;\n",
       "padding-bottom: 1.3em;\n",
       "padding-left: 0.4em;\n",
       "}\n",
       ".hoogle-code {\n",
       "display: block;\n",
       "font-family: monospace;\n",
       "white-space: pre;\n",
       "}\n",
       ".hoogle-text {\n",
       "display: block;\n",
       "}\n",
       ".hoogle-name {\n",
       "color: green;\n",
       "font-weight: bold;\n",
       "}\n",
       ".hoogle-head {\n",
       "font-weight: bold;\n",
       "}\n",
       ".hoogle-sub {\n",
       "display: block;\n",
       "margin-left: 0.4em;\n",
       "}\n",
       ".hoogle-package {\n",
       "font-weight: bold;\n",
       "font-style: italic;\n",
       "}\n",
       ".hoogle-module {\n",
       "font-weight: bold;\n",
       "}\n",
       ".hoogle-class {\n",
       "font-weight: bold;\n",
       "}\n",
       ".get-type {\n",
       "color: green;\n",
       "font-weight: bold;\n",
       "font-family: monospace;\n",
       "display: block;\n",
       "white-space: pre-wrap;\n",
       "}\n",
       ".show-type {\n",
       "color: green;\n",
       "font-weight: bold;\n",
       "font-family: monospace;\n",
       "margin-left: 1em;\n",
       "}\n",
       ".mono {\n",
       "font-family: monospace;\n",
       "display: block;\n",
       "}\n",
       ".err-msg {\n",
       "color: red;\n",
       "font-style: italic;\n",
       "font-family: monospace;\n",
       "white-space: pre;\n",
       "display: block;\n",
       "}\n",
       "#unshowable {\n",
       "color: red;\n",
       "font-weight: bold;\n",
       "}\n",
       ".err-msg.in.collapse {\n",
       "padding-top: 0.7em;\n",
       "}\n",
       ".highlight-code {\n",
       "white-space: pre;\n",
       "font-family: monospace;\n",
       "}\n",
       ".suggestion-warning { \n",
       "font-weight: bold;\n",
       "color: rgb(200, 130, 0);\n",
       "}\n",
       ".suggestion-error { \n",
       "font-weight: bold;\n",
       "color: red;\n",
       "}\n",
       ".suggestion-name {\n",
       "font-weight: bold;\n",
       "}\n",
       "</style><span class='get-type'>push :: forall a. a -> Stack a -> Stack a</span>"
      ],
      "text/plain": [
       "push :: forall a. a -> Stack a -> Stack a"
      ]
     },
     "metadata": {},
     "output_type": "display_data"
    },
    {
     "data": {
      "text/plain": [
       "2"
      ]
     },
     "metadata": {},
     "output_type": "display_data"
    }
   ],
   "source": [
    ":module -Stack\n",
    "import Stack\n",
    ":i Stack\n",
    ":t MkStack\n",
    ":t pop\n",
    ":t push\n",
    "\n",
    "let a = MkStack []\n",
    "b = push 6 a\n",
    "c = push 2 a\n",
    "top c"
   ]
  },
  {
   "cell_type": "markdown",
   "metadata": {},
   "source": [
    "----"
   ]
  },
  {
   "cell_type": "code",
   "execution_count": 100,
   "metadata": {},
   "outputs": [],
   "source": [
    "module Stack\n",
    "  ( Stack\n",
    "  , empty   -- :: Stack a\n",
    "  , isEmpty -- :: Stack a -> Bool\n",
    "  , push    -- :: a -> Stack a -> Stack a\n",
    "  , top     -- :: Stack a -> a\n",
    "  , pop     -- :: Stack a -> (a,Stack a)\n",
    "  ) where\n",
    "\n",
    "-- interface (signature, contract)\n",
    "empty :: Stack a\n",
    "isEmpty :: Stack a -> Bool\n",
    "push :: a -> Stack a -> Stack a\n",
    "top :: Stack a -> a\n",
    "pop :: Stack a -> (a,Stack a)\n",
    "\n",
    "-- implementation\n",
    "newtype Stack a = MkStack [a] deriving Show -- hidden constructor (see the module export list)\n",
    "\n",
    "empty = MkStack []\n",
    "isEmpty (MkStack s) = null s\n",
    "push x (MkStack s) = MkStack (x:s)\n",
    "top (MkStack s) = head s\n",
    "pop (MkStack (s:ss)) = (s,MkStack ss)"
   ]
  },
  {
   "cell_type": "code",
   "execution_count": 101,
   "metadata": {},
   "outputs": [
    {
     "data": {
      "text/plain": [
       "MkStack []"
      ]
     },
     "metadata": {},
     "output_type": "display_data"
    },
    {
     "data": {
      "text/plain": [
       "MkStack [1]"
      ]
     },
     "metadata": {},
     "output_type": "display_data"
    },
    {
     "data": {
      "text/plain": [
       "(1,MkStack [])"
      ]
     },
     "metadata": {},
     "output_type": "display_data"
    }
   ],
   "source": [
    "\n",
    ":module -Stack\n",
    "import Stack\n",
    "empty\n",
    "push 1 $ empty\n",
    "pop $ push 1 $ empty"
   ]
  },
  {
   "cell_type": "markdown",
   "metadata": {},
   "source": [
    "----"
   ]
  },
  {
   "cell_type": "markdown",
   "metadata": {},
   "source": [
    "8."
   ]
  },
  {
   "cell_type": "code",
   "execution_count": 22,
   "metadata": {},
   "outputs": [],
   "source": [
    "module Stack\n",
    "  ( Stack\n",
    "  , empty   -- :: Stack a\n",
    "  , isEmpty -- :: Stack a -> Bool\n",
    "  , push    -- :: a -> Stack a -> Stack a\n",
    "  , top     -- :: Stack a -> a\n",
    "  , pop     -- :: Stack a -> (a,Stack a)\n",
    "  ) where\n",
    "\n",
    "-- interface (signature, contract)\n",
    "empty :: Stack a\n",
    "isEmpty :: Stack a -> Bool\n",
    "push :: a -> Stack a -> Stack a\n",
    "top :: Stack a -> a\n",
    "pop :: Stack a -> (a,Stack a)\n",
    "\n",
    "-- implementation\n",
    "newtype Stack a = MkStack [a] deriving Show -- hidden constructor (see the module export list)\n",
    "\n",
    "empty = MkStack []\n",
    "isEmpty (MkStack s) = null s\n",
    "push x (MkStack s) = MkStack (x:s)\n",
    "top (MkStack s) = head s\n",
    "pop (MkStack (s:ss)) = (s,MkStack ss)"
   ]
  },
  {
   "cell_type": "code",
   "execution_count": 24,
   "metadata": {},
   "outputs": [
    {
     "data": {
      "text/plain": [
       "MkStack []"
      ]
     },
     "metadata": {},
     "output_type": "display_data"
    },
    {
     "data": {
      "text/plain": [
       "MkStack [1]"
      ]
     },
     "metadata": {},
     "output_type": "display_data"
    },
    {
     "data": {
      "text/plain": [
       "(1,MkStack [])"
      ]
     },
     "metadata": {},
     "output_type": "display_data"
    }
   ],
   "source": [
    "\n",
    ":module -Stack\n",
    "import Stack\n",
    "empty\n",
    "push 1 $ empty\n",
    "pop $ push 1 $ empty"
   ]
  },
  {
   "cell_type": "code",
   "execution_count": null,
   "metadata": {},
   "outputs": [],
   "source": []
  }
 ],
 "metadata": {
  "kernelspec": {
   "display_name": "Haskell",
   "language": "haskell",
   "name": "haskell"
  },
  "language_info": {
   "codemirror_mode": "ihaskell",
   "file_extension": ".hs",
   "mimetype": "text/x-haskell",
   "name": "haskell",
   "pygments_lexer": "Haskell",
   "version": "8.6.5"
  }
 },
 "nbformat": 4,
 "nbformat_minor": 4
}
