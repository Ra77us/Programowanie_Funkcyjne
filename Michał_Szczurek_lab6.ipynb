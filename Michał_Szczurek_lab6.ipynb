{
 "cells": [
  {
   "cell_type": "markdown",
   "metadata": {},
   "source": [
    "Michał Szczurek lab 6."
   ]
  },
  {
   "cell_type": "markdown",
   "metadata": {},
   "source": [
    "1."
   ]
  },
  {
   "cell_type": "code",
   "execution_count": null,
   "metadata": {},
   "outputs": [],
   "source": [
    "(<$<) :: (a -> b) -> a -> b\n",
    "(<$<) = ($)\n",
    "\n",
    "(>$>) :: a -> (a -> b) -> b\n",
    "x >$> f = f x\n",
    "infixl 0 >$>"
   ]
  },
  {
   "cell_type": "code",
   "execution_count": null,
   "metadata": {},
   "outputs": [],
   "source": [
    "(\\x -> 2 * x + 1) <$< 1\n",
    "1 >$> (\\x -> 2 * x + 1)"
   ]
  },
  {
   "cell_type": "code",
   "execution_count": null,
   "metadata": {},
   "outputs": [],
   "source": [
    "(<.<) :: (b -> c) -> (a -> b) -> (a -> c)\n",
    "(<.<) = (.)\n",
    "\n",
    "(>.>) :: (a -> b) -> (b -> c) -> (a -> c)\n",
    "f >.> g = g . f\n",
    "infixl 9 >.>"
   ]
  },
  {
   "cell_type": "code",
   "execution_count": null,
   "metadata": {},
   "outputs": [],
   "source": [
    "(+2) <.< (*3) <$< 5\n",
    "(+2) >.> (*3) <$< 5\n",
    "\n",
    "5 >$> (+2) <.< (*3)\n",
    "5 >$> (+2) >.> (*3)\n",
    "\n",
    "3 >$> (+2) >$> (+10)"
   ]
  },
  {
   "cell_type": "code",
   "execution_count": null,
   "metadata": {},
   "outputs": [],
   "source": [
    " tail [1,2]\n",
    " tail >.> tail >.> tail $ [1,2]"
   ]
  },
  {
   "cell_type": "code",
   "execution_count": null,
   "metadata": {},
   "outputs": [],
   "source": [
    "safeTail :: [a] -> Maybe [a]\n",
    "safeTail []     = Nothing\n",
    "safeTail (x:xs) = Just xs"
   ]
  },
  {
   "cell_type": "code",
   "execution_count": null,
   "metadata": {},
   "outputs": [],
   "source": [
    "safeTail [1,2]\n",
    "safeTail []\n",
    "\n",
    "--safeTail >.> safeTail >.> safeTail <$< [1,2]\n",
    "--[1,2] >$> safeTail >.> safeTail >.> safeTail\n",
    "\n",
    ":t safeTail"
   ]
  },
  {
   "cell_type": "code",
   "execution_count": null,
   "metadata": {},
   "outputs": [],
   "source": [
    "extractMaybe :: Maybe a -> a\n",
    "extractMaybe Nothing  = error \"Nothing inside!\"\n",
    "extractMaybe (Just x) = x"
   ]
  },
  {
   "cell_type": "code",
   "execution_count": null,
   "metadata": {},
   "outputs": [],
   "source": [
    "[1,2] >$> safeTail >.> extractMaybe >.> safeTail\n",
    "[1,2] >$> safeTail >.> extractMaybe >.> safeTail >.> extractMaybe >.> safeTail\n",
    "\n",
    "[1] >$> safeTail >.> extractMaybe >.> safeTail >.> extractMaybe >.> safeTail"
   ]
  },
  {
   "cell_type": "code",
   "execution_count": null,
   "metadata": {},
   "outputs": [],
   "source": [
    "insertMaybe :: a -> Maybe a\n",
    "insertMaybe = Just\n",
    "\n",
    "-- (>^$>) = extract (^) and apply ($)\n",
    "(>^$>) :: Maybe a -> (a -> Maybe b) -> Maybe b\n",
    "ma >^$> f = (extractMaybe ma) >$> f\n",
    "infixl 1 >^$>"
   ]
  },
  {
   "cell_type": "code",
   "execution_count": null,
   "metadata": {},
   "outputs": [],
   "source": [
    "insertMaybe [1,2]\n",
    "[1,2] >$> insertMaybe >.> extractMaybe\n",
    "\n",
    "--[1,2] >^$> safeTail\n",
    ":t (>^$>)\n",
    "insertMaybe [1,2] >^$> safeTail\n",
    "insertMaybe [1,2] >^$> safeTail >^$> safeTail\n",
    "insertMaybe [1,2] >^$> safeTail >^$> safeTail >^$> safeTail\n",
    "insertMaybe [1,2] >^$> safeTail >^$> safeTail >^$> safeTail >^$> safeTail"
   ]
  },
  {
   "cell_type": "code",
   "execution_count": null,
   "metadata": {},
   "outputs": [],
   "source": [
    "(>^$>) :: Maybe a -> (a -> Maybe b) -> Maybe b\n",
    "Nothing  >^$> _ = Nothing\n",
    "(Just x) >^$> f = f x\n",
    "infixl 1 >^$>"
   ]
  },
  {
   "cell_type": "code",
   "execution_count": null,
   "metadata": {},
   "outputs": [],
   "source": [
    "insertMaybe [1,2] >^$> safeTail\n",
    "insertMaybe [1,2] >^$> safeTail >^$> safeTail\n",
    "insertMaybe [1,2] >^$> safeTail >^$> safeTail >^$> safeTail\n",
    "insertMaybe [1,2] >^$> safeTail >^$> safeTail >^$> safeTail >^$> safeTail"
   ]
  },
  {
   "cell_type": "code",
   "execution_count": null,
   "metadata": {},
   "outputs": [],
   "source": [
    "f1 :: (Ord a, Num a) => a -> Maybe a\n",
    "f1 x = if x > 0 then Just (x + 1) else Nothing\n",
    "\n",
    "f2 :: (Eq a, Num a) => a -> Maybe a\n",
    "f2 x = if x /= 0 then Just (10 * x) else Nothing\n",
    "\n",
    "-- Kleisli composition\n",
    "(>.>>) :: (a -> Maybe b) -> (b -> Maybe c) -> (a -> Maybe c)\n",
    "f >.>> g = \\x -> g (extractMaybe (f x))"
   ]
  },
  {
   "cell_type": "code",
   "execution_count": null,
   "metadata": {},
   "outputs": [],
   "source": [
    "h = f1 >.>> f2\n",
    ":t h\n",
    "f1 3\n",
    "f2 3\n",
    "h 3"
   ]
  },
  {
   "cell_type": "code",
   "execution_count": null,
   "metadata": {},
   "outputs": [],
   "source": [
    "let f3 x = Just (1/x)\n",
    "let f4 x = Just (2 * x)\n",
    ":t f3\n",
    ":t f4\n",
    "\n",
    "let f34 = f3 >.>> f4\n",
    ":t f34\n",
    "f34 2"
   ]
  },
  {
   "cell_type": "markdown",
   "metadata": {},
   "source": [
    "Zadanie 1."
   ]
  },
  {
   "cell_type": "code",
   "execution_count": null,
   "metadata": {},
   "outputs": [],
   "source": [
    "f >.>> g = \\x -> g (extractMaybe (f x))"
   ]
  },
  {
   "cell_type": "code",
   "execution_count": null,
   "metadata": {},
   "outputs": [],
   "source": [
    "f >.>> g = \\x -> f x >^$> g"
   ]
  },
  {
   "cell_type": "code",
   "execution_count": null,
   "metadata": {},
   "outputs": [],
   "source": [
    "(f3 >.>> f4 ) 332"
   ]
  },
  {
   "cell_type": "markdown",
   "metadata": {},
   "source": [
    "------"
   ]
  },
  {
   "cell_type": "markdown",
   "metadata": {},
   "source": [
    "2."
   ]
  },
  {
   "cell_type": "code",
   "execution_count": null,
   "metadata": {},
   "outputs": [],
   "source": [
    ":i Maybe\n",
    ":i Monad\n",
    "\n",
    "return 1 :: Maybe Int"
   ]
  },
  {
   "cell_type": "code",
   "execution_count": null,
   "metadata": {},
   "outputs": [],
   "source": [
    "import Control.Monad\n",
    ":t (>=>)"
   ]
  },
  {
   "cell_type": "code",
   "execution_count": null,
   "metadata": {},
   "outputs": [],
   "source": [
    "insertMaybe [1,2]\n",
    "return (Just [1,2])\n",
    "return [1,2]\n",
    "return [1,2] :: Maybe [Int]\n",
    "\n",
    "insertMaybe [1,2] >^$> safeTail\n",
    "return [1,2] >>= safeTail\n",
    "(return [1,2] >>= safeTail) == (insertMaybe [1,2] >^$> safeTail)\n",
    "\n",
    "insertMaybe [1,2] >^$> safeTail >^$> safeTail >^$> safeTail >^$> safeTail\n",
    "return [1,2] >>= safeTail >>= safeTail >>= safeTail >>= safeTail\n",
    "\n",
    "return [1,2] >^$> safeTail >^$> safeTail >^$> safeTail >^$> safeTail\n",
    "insertMaybe [1,2] >>= safeTail >^$> safeTail >>= safeTail >^$> safeTail\n",
    "return [1,2] >^$> safeTail >>= safeTail >^$> safeTail >>= safeTail"
   ]
  },
  {
   "cell_type": "code",
   "execution_count": null,
   "metadata": {},
   "outputs": [],
   "source": [
    "doSafeTail3x :: [a] -> Maybe [a]\n",
    "doSafeTail3x xs = do\n",
    "  t1 <- safeTail xs\n",
    "  t2 <- safeTail t1\n",
    "  t3 <- safeTail t2\n",
    "  return t3\n",
    "\n",
    "safeTail3x :: [a] -> Maybe [a]\n",
    "safeTail3x xs =\n",
    "  safeTail xs >>= \\t1 ->\n",
    "    safeTail t1 >>= \\t2 ->\n",
    "      safeTail t2 >>= \\t3 ->\n",
    "        return t3\n",
    "\n",
    "safeTail3x' :: [a] -> Maybe [a]\n",
    "safeTail3x' xs = return xs >>= safeTail >>= safeTail >>= safeTail"
   ]
  },
  {
   "cell_type": "code",
   "execution_count": null,
   "metadata": {},
   "outputs": [],
   "source": [
    "doSafeTail3x [1..5]\n",
    "safeTail3x [1..5]\n",
    "safeTail3x' [1..5]\n",
    "\n",
    "doSafeTail3x [1]\n",
    "safeTail3x [1]\n",
    "safeTail3x' [1]"
   ]
  },
  {
   "cell_type": "code",
   "execution_count": null,
   "metadata": {},
   "outputs": [],
   "source": [
    "f5 :: Int -> Int -> Int -> Int\n",
    "f5 x y z = 1000 `div` x + 100 `div` y + 10 `div` z"
   ]
  },
  {
   "cell_type": "code",
   "execution_count": null,
   "metadata": {},
   "outputs": [],
   "source": [
    "f5 1 2 3\n",
    "--f5 1 2 0\n",
    "--f5 1 0 3\n",
    "--f5 0 2 3"
   ]
  },
  {
   "cell_type": "code",
   "execution_count": null,
   "metadata": {},
   "outputs": [],
   "source": [
    "safeDiv :: Int -> Int -> Maybe Int\n",
    "safeDiv x y | y /= 0    = Just $ x `div` y\n",
    "            | otherwise = Nothing\n",
    "\n",
    "safeF5 :: Int -> Int -> Int -> Maybe Int\n",
    "safeF5 x y z =\n",
    "  case (safeDiv 1000 x) of\n",
    "    Nothing -> Nothing\n",
    "    Just (iOverX) ->\n",
    "      case (safeDiv 100 y) of\n",
    "        Nothing -> Nothing\n",
    "        Just (iOverY) ->\n",
    "          case (safeDiv 10 z) of\n",
    "            Nothing -> Nothing\n",
    "            Just (iOverZ) -> Just $ iOverX + iOverY + iOverZ"
   ]
  },
  {
   "cell_type": "code",
   "execution_count": null,
   "metadata": {},
   "outputs": [],
   "source": [
    "safeF5 1 2 3\n",
    "safeF5 1 2 0\n",
    "safeF5 1 0 3\n",
    "safeF5 0 2 3"
   ]
  },
  {
   "cell_type": "code",
   "execution_count": null,
   "metadata": {},
   "outputs": [],
   "source": [
    "safeF5'' :: Int -> Int -> Int -> Maybe Int\n",
    "safeF5'' x y z = f <$> iOverX <*> iOverY <*> iOverZ\n",
    "  where\n",
    "    f i j k = i + j + k\n",
    "    iOverX = safeDiv 1000 x\n",
    "    iOverY = safeDiv 100 y\n",
    "    iOverZ = safeDiv 10 z"
   ]
  },
  {
   "cell_type": "code",
   "execution_count": null,
   "metadata": {},
   "outputs": [],
   "source": [
    "safeF5'' 1 2 3\n",
    "safeF5'' 1 2 0\n",
    "safeF5'' 1 0 3\n",
    "safeF5'' 0 2 3"
   ]
  },
  {
   "cell_type": "markdown",
   "metadata": {},
   "source": [
    "-----"
   ]
  },
  {
   "cell_type": "markdown",
   "metadata": {},
   "source": [
    "Zadanie 1."
   ]
  },
  {
   "cell_type": "code",
   "execution_count": null,
   "metadata": {},
   "outputs": [],
   "source": [
    "(>=>) :: Monad m => (a -> m b) -> (b -> m c) -> a -> m c\n",
    "(f >=> g) x = f x >>= g"
   ]
  },
  {
   "cell_type": "markdown",
   "metadata": {},
   "source": [
    "Zadanie 2."
   ]
  },
  {
   "cell_type": "code",
   "execution_count": null,
   "metadata": {},
   "outputs": [],
   "source": [
    "joinMaybe :: Monad m => m (m a) -> m a\n",
    "joinMaybe x = x >>= id"
   ]
  },
  {
   "cell_type": "markdown",
   "metadata": {},
   "source": [
    "-------------------------"
   ]
  },
  {
   "cell_type": "markdown",
   "metadata": {},
   "source": [
    "4."
   ]
  },
  {
   "cell_type": "code",
   "execution_count": null,
   "metadata": {},
   "outputs": [],
   "source": [
    ":i []\n",
    "\n",
    "[1,2,3] :: [Int]\n",
    "[1,2,3] :: [] Int"
   ]
  },
  {
   "cell_type": "code",
   "execution_count": null,
   "metadata": {},
   "outputs": [],
   "source": [
    "return 1 :: [] Int\n",
    "return 3 >>= (\\x -> [1..x])\n",
    "[1,2] >>= (\\x -> [-x,x])\n",
    "[1,2,3] >>= (\\x -> [-x..x])\n",
    "\n",
    "[1,2] >>= (\\x -> [-x,x]) >>= (\\y -> [-y,y])\n",
    "[1,2] >>= \\x -> [-x,x] >>= \\y -> [-y,y]\n",
    "[1,2] >>= \\x -> [-x,x] >>= \\y -> return (x,y)"
   ]
  },
  {
   "cell_type": "code",
   "execution_count": null,
   "metadata": {},
   "outputs": [],
   "source": [
    "xs1 :: [(Int,Int,Int)]\n",
    "xs1 = [ (x,y,z) | let xs = [1,2], x <- xs, y <- xs, z <- xs ]\n",
    "\n",
    "doXs1 :: [(Int,Int,Int)]\n",
    "doXs1 = do\n",
    "  let xs = [1,2]\n",
    "  x <- xs\n",
    "  y <- xs\n",
    "  z <- xs\n",
    "  return (x,y,z)"
   ]
  },
  {
   "cell_type": "code",
   "execution_count": null,
   "metadata": {},
   "outputs": [],
   "source": [
    "xs1\n",
    "doXs1\n",
    "xs1 == doXs1"
   ]
  },
  {
   "cell_type": "code",
   "execution_count": null,
   "metadata": {},
   "outputs": [],
   "source": [
    "import Control.Monad"
   ]
  },
  {
   "cell_type": "code",
   "execution_count": null,
   "metadata": {},
   "outputs": [],
   "source": [
    "xs2 :: [(Int,Int,Int)]\n",
    "xs2 = [ (x,y,z) | let xs = [1..3], x <- xs, y <- xs, z <- xs, x > y && y > z ]\n",
    "\n",
    "doXs2 :: [(Int,Int,Int)]\n",
    "doXs2 = do\n",
    "  let xs = [1..3]\n",
    "  x <- xs\n",
    "  y <- xs\n",
    "  z <- xs\n",
    "  guard $ x > y && y > z\n",
    "  return (x,y,z)\n",
    "\n",
    "doXs2' :: [(Int,Int,Int)]\n",
    "doXs2' = do\n",
    "  let xs = [1..3]\n",
    "  x <- xs\n",
    "  y <- xs\n",
    "  z <- xs\n",
    "  if x > y && y > z\n",
    "    then return (x,y,z)\n",
    "    else []"
   ]
  },
  {
   "cell_type": "code",
   "execution_count": null,
   "metadata": {},
   "outputs": [],
   "source": [
    "xs2\n",
    "doXs2\n",
    "doXs2'"
   ]
  },
  {
   "cell_type": "code",
   "execution_count": null,
   "metadata": {},
   "outputs": [],
   "source": [
    ":t guard\n",
    "[1..10] >>= \\x -> guard (even x) >> return x\n",
    "[1..10] >>= \\x -> guard (even x) >>= \\y -> return (x,y)\n",
    "\n",
    "[1..10] >>= \\x -> return x\n",
    "[1..10] >>= return"
   ]
  },
  {
   "cell_type": "markdown",
   "metadata": {},
   "source": [
    "zadanie 2."
   ]
  },
  {
   "cell_type": "code",
   "execution_count": null,
   "metadata": {},
   "outputs": [],
   "source": [
    "joinL :: Monad m => m (m a) -> m a\n",
    "joinL x = x >>= id"
   ]
  }
 ],
 "metadata": {
  "kernelspec": {
   "display_name": "Haskell",
   "language": "haskell",
   "name": "haskell"
  },
  "language_info": {
   "codemirror_mode": "ihaskell",
   "file_extension": ".hs",
   "mimetype": "text/x-haskell",
   "name": "haskell",
   "pygments_lexer": "Haskell",
   "version": "8.6.5"
  }
 },
 "nbformat": 4,
 "nbformat_minor": 4
}
