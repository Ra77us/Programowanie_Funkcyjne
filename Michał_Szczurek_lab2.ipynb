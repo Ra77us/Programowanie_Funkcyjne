{
 "cells": [
  {
   "cell_type": "markdown",
   "metadata": {},
   "source": [
    "Michał Szczurek, grupa czwartek 9.35 A"
   ]
  },
  {
   "cell_type": "code",
   "execution_count": null,
   "metadata": {},
   "outputs": [],
   "source": [
    "myFun x = 2 * x"
   ]
  },
  {
   "cell_type": "code",
   "execution_count": null,
   "metadata": {},
   "outputs": [],
   "source": [
    "add2T :: Num a => (a, a) -> a\n",
    "add2T (x,y) = x + y\n",
    "\n",
    "add2C :: Num a => a -> a -> a\n",
    "add2C x y = x + y\n",
    "\n",
    "(curry add2T) 1 2\n",
    "curry add2T 1 2\n",
    "add2T (1,2)"
   ]
  },
  {
   "cell_type": "markdown",
   "metadata": {},
   "source": [
    "1. zadania"
   ]
  },
  {
   "cell_type": "code",
   "execution_count": null,
   "metadata": {},
   "outputs": [],
   "source": [
    "-- 1.\n",
    "add2C :: Num a => a -> (a -> a)\n",
    "add2C x y = x + y\n",
    "add2C 1 4\n",
    "-- prawostronnie"
   ]
  },
  {
   "cell_type": "code",
   "execution_count": null,
   "metadata": {},
   "outputs": [],
   "source": [
    "--2 i 3.\n",
    "add3T :: Num a => (a, a, a) -> a\n",
    "add3T (x, y, z) = x + y + z\n",
    "\n",
    "add3C :: Num a => a -> (a -> (a -> a))\n",
    "add3C x y z = x + y + z\n",
    "\n",
    "add3T (2, 4, 6)\n",
    "((((add3C)1)2)4)"
   ]
  },
  {
   "cell_type": "code",
   "execution_count": null,
   "metadata": {},
   "outputs": [],
   "source": [
    "-- 4. (część)\n",
    "curry2 :: ((a, b) -> c) -> a -> b -> c\n",
    "curry2 f = \\x y -> f (x, y)\n",
    "curry2 add2T 1 3\n",
    "\n",
    "uncurry2 :: (a -> b -> c) -> (a, b) -> c\n",
    "uncurry2 f = \\(x, y) -> f x y\n",
    "\n",
    "uncurry2 add2C (8,2)"
   ]
  },
  {
   "cell_type": "markdown",
   "metadata": {},
   "source": [
    "2. Zadania"
   ]
  },
  {
   "cell_type": "code",
   "execution_count": null,
   "metadata": {},
   "outputs": [],
   "source": [
    "fiveToPower_ :: Integer -> Integer\n",
    "fiveToPower_ = (5 ^)\n",
    "\n",
    "fiveToPower_ 3"
   ]
  },
  {
   "cell_type": "code",
   "execution_count": null,
   "metadata": {},
   "outputs": [],
   "source": [
    "_ToPower5 :: Num a => a -> a\n",
    "_ToPower5 = (^ 5)\n",
    "\n",
    "_ToPower5 2"
   ]
  },
  {
   "cell_type": "code",
   "execution_count": null,
   "metadata": {},
   "outputs": [],
   "source": [
    "subtrNFrom5 :: Num a => a -> a\n",
    "subtrNFrom5 = (5 -)\n",
    "\n",
    "subtr5From_ :: Num a => a -> a\n",
    "subtr5From_ = (+ (-5)) \n",
    "\n",
    "subtr5From_b :: Num a => a -> a\n",
    "subtr5From_b = flip (-) 5 \n",
    " \n",
    "subtrNFrom5 3\n",
    "subtr5From_ 7\n",
    "subtr5From_b 4"
   ]
  },
  {
   "cell_type": "code",
   "execution_count": null,
   "metadata": {},
   "outputs": [],
   "source": [
    "flip2 ::(a -> b -> c) -> b -> a -> c\n",
    "flip2 f x y = f y x\n",
    "flip2 (-) 2 3"
   ]
  },
  {
   "cell_type": "markdown",
   "metadata": {},
   "source": [
    "------------------------------------"
   ]
  },
  {
   "cell_type": "code",
   "execution_count": null,
   "metadata": {},
   "outputs": [],
   "source": [
    "let f x y = if (x > 0) then 42 else x + y\n",
    ":type f\n",
    "let neverEndingStory x = neverEndingStory (x + 1) `mod` 100\n",
    "--neverEndingStory 1\n",
    "f 1 (neverEndingStory 1)"
   ]
  },
  {
   "cell_type": "code",
   "execution_count": null,
   "metadata": {},
   "outputs": [],
   "source": [
    "let xs = 1 : 2 : 3 : 4 : 5 : []\n",
    "xs\n",
    "0 : xs\n",
    "xs ++ [6]\n",
    "xs !! 2\n",
    "[1,2] ++ [3,4,5]\n",
    "null xs\n",
    "any (>2) xs\n",
    "all (>2) xs"
   ]
  },
  {
   "cell_type": "code",
   "execution_count": null,
   "metadata": {},
   "outputs": [],
   "source": [
    "zip xs ['a','b']\n",
    "splitAt 2 xs\n",
    "xs\n",
    "--sort [1,3,5,2,4,1]\n",
    "1 `elem` xs\n",
    "sum [1,3,5,2,4,1]"
   ]
  },
  {
   "cell_type": "markdown",
   "metadata": {},
   "source": [
    "4. Zadania"
   ]
  },
  {
   "cell_type": "code",
   "execution_count": null,
   "metadata": {},
   "outputs": [],
   "source": [
    "-- 1\n",
    "isPalindrome :: [Char] -> Bool\n",
    "isPalindrome [] = True\n",
    "isPalindrome [_] = True\n",
    "isPalindrome s = if head s == last s\n",
    "                 then isPalindrome (init (tail s))\n",
    "                 else False\n",
    "\n"
   ]
  },
  {
   "cell_type": "code",
   "execution_count": null,
   "metadata": {},
   "outputs": [],
   "source": [
    "-- 3\n",
    "capitalize :: [Char] -> [Char]\n",
    "capitalize w = [toEnum (fromEnum (head w) -32)] ++ tail w -- capitalize \"ala\" = \"Ala\"\n",
    "capitalize \"kot\""
   ]
  },
  {
   "cell_type": "markdown",
   "metadata": {},
   "source": [
    "------"
   ]
  },
  {
   "cell_type": "code",
   "execution_count": null,
   "metadata": {},
   "outputs": [],
   "source": [
    "[(i,j) | i <- [0..3], j <- [0..2]]"
   ]
  },
  {
   "cell_type": "markdown",
   "metadata": {},
   "source": [
    "5. Zadnia"
   ]
  },
  {
   "cell_type": "code",
   "execution_count": null,
   "metadata": {},
   "outputs": [],
   "source": [
    "-- 1 Napisać wyrażenie obliczające, ile jest w przedziale [1,100] trójek liczb całkowitych reprezentujących długości boków trójkąta prostokątnego\n",
    "length [(a,b,c) | a <- [1..100], b <- [a..100], c <- [b..100], a ^ 2 + b ^ 2 == c ^ 2]"
   ]
  },
  {
   "cell_type": "code",
   "execution_count": null,
   "metadata": {},
   "outputs": [],
   "source": [
    "-- 2\n",
    "isPrime :: Integral t => t -> Bool\n",
    "isPrime n = [i | i <- [2..n-1], n `mod` i == 0] == []\n",
    "isPrime 101\n",
    "-- Poprawna, ale nie optymalna - wyznacza wszystkie dzielniki, podczas gdy mogłaby zwrócić False już dla pierwszego\n",
    "-- dodatkowo można zmienić n-1 na sqrt n "
   ]
  },
  {
   "cell_type": "code",
   "execution_count": null,
   "metadata": {},
   "outputs": [],
   "source": [
    "-- 3 Napisać wyrażenie obliczające, ile jest w przedziale [1,10000] liczb pierwszych\n",
    "length [a | a <- [1..10000], isPrime a ]"
   ]
  },
  {
   "cell_type": "code",
   "execution_count": null,
   "metadata": {},
   "outputs": [],
   "source": [
    "-- 6 Napisać definicję funkcji\n",
    "\n",
    "allEqual :: Eq a => [a] -> Bool\n",
    "allEqual xs = if length tab == length xs\n",
    "              then True\n",
    "              else False\n",
    "        where tab = [x | x<- xs, x == head xs]\n",
    "        \n",
    "allEqual [1,2,3]\n",
    "allEqual [3,3,3]"
   ]
  },
  {
   "cell_type": "markdown",
   "metadata": {},
   "source": [
    "-------------------------------------"
   ]
  },
  {
   "cell_type": "code",
   "execution_count": null,
   "metadata": {},
   "outputs": [],
   "source": [
    "--set +s\n",
    "fib :: (Num a, Eq a) => a -> a\n",
    "fib n = if n == 0 || n == 1 \n",
    "        then n\n",
    "        else fib (n - 2) + fib (n - 1)\n",
    " \n",
    "fib 9"
   ]
  },
  {
   "cell_type": "markdown",
   "metadata": {},
   "source": [
    "6. Zadania"
   ]
  },
  {
   "cell_type": "code",
   "execution_count": null,
   "metadata": {},
   "outputs": [],
   "source": [
    "fibs = 0 : 1 : zipWith (+) fibs (tail fibs) :: [Int]\n",
    "fibs !! 5"
   ]
  },
  {
   "cell_type": "code",
   "execution_count": null,
   "metadata": {},
   "outputs": [],
   "source": [
    "-- 5, 6\n",
    "sum' :: Num a => [a] -> a\n",
    "sum' []   = 0\n",
    "sum' (x:xs) = x + sum' xs\n"
   ]
  },
  {
   "cell_type": "code",
   "execution_count": null,
   "metadata": {},
   "outputs": [],
   "source": [
    "prod' :: Num a => [a] -> a \n",
    "prod' [a] = a\n",
    "prod' (x:xs) = x * prod' xs\n",
    "\n",
    "prod' [4,2,3]\n",
    "\n",
    "\n"
   ]
  },
  {
   "cell_type": "code",
   "execution_count": null,
   "metadata": {},
   "outputs": [],
   "source": [
    "length' :: [a] -> Int -- length' [1,1,1,1] = 4\n",
    "length' [] = 0\n",
    "length' (x:xs) = 1 + length' xs\n",
    "\n",
    "length' [3,2,3,6,6]\n"
   ]
  },
  {
   "cell_type": "code",
   "execution_count": null,
   "metadata": {},
   "outputs": [],
   "source": [
    "or' :: [Bool] -> Bool -- or' [True, False, True] = True\n",
    "or' [True] = True\n",
    "or' [False] = False\n",
    "or' (x:xs) = if x == True\n",
    "             then True\n",
    "             else or' xs\n",
    "             \n",
    "or' [False, False, False]\n"
   ]
  },
  {
   "cell_type": "code",
   "execution_count": null,
   "metadata": {},
   "outputs": [],
   "source": [
    "and' :: [Bool] -> Bool -- and' [True, False, True] = False\n",
    "and' [True] = True\n",
    "and' [False] = False\n",
    "and' (x:xs) = if x == True\n",
    "             then and' xs\n",
    "             else False\n",
    "             \n",
    "and' [True, False, True]\n"
   ]
  },
  {
   "cell_type": "code",
   "execution_count": null,
   "metadata": {},
   "outputs": [],
   "source": [
    "elem' :: Eq a => a -> [a] -> Bool -- elem' 3 [1,2,3] = True\n",
    "elem' a [b] =  a == b\n",
    "elem' a (x:xs) =  a == x || elem' a xs\n",
    "\n",
    "elem' 3 [1,2,3,54]\n",
    "elem' 3 [1,2,54]"
   ]
  },
  {
   "cell_type": "code",
   "execution_count": null,
   "metadata": {},
   "outputs": [],
   "source": [
    "doubleAll :: Num t => [t] -> [t] -- doubleAll [1,2] = [2,4]\n",
    "doubleAll [] = []\n",
    "doubleAll (x:xs) = (2*x) : doubleAll xs\n",
    "\n",
    "doubleAll [1,2] "
   ]
  },
  {
   "cell_type": "code",
   "execution_count": null,
   "metadata": {},
   "outputs": [],
   "source": [
    "squareAll :: Num t => [t] -> [t] -- squareAll [2,3] = [4,9]\n",
    "squareAll [] = []\n",
    "squareAll (x:xs) = (x^2) : squareAll xs\n",
    "\n",
    "squareAll [2,3]"
   ]
  },
  {
   "cell_type": "code",
   "execution_count": null,
   "metadata": {},
   "outputs": [],
   "source": [
    "selectEven :: Integral t => [t] -> [t] -- selectEven [1,2,3] = [2]\n",
    "selectEven [] = []\n",
    "selectEven (x:xs) = if x `mod` 2 == 0\n",
    "                    then x : selectEven xs\n",
    "                    else selectEven xs\n",
    "                    \n",
    "selectEven [1,2,3,4,8,34,2,1,5]"
   ]
  },
  {
   "cell_type": "markdown",
   "metadata": {},
   "source": [
    "------------------------------------------------"
   ]
  },
  {
   "cell_type": "code",
   "execution_count": null,
   "metadata": {},
   "outputs": [],
   "source": [
    "sum'2 :: Num a => [a] -> a\n",
    "sum'2 xs = loop 0 xs\n",
    " where loop acc []     = acc\n",
    "       loop acc (x:xs) = loop (x + acc) xs\n",
    "       \n",
    "sum'2 [1,4,3]"
   ]
  },
  {
   "cell_type": "code",
   "execution_count": null,
   "metadata": {},
   "outputs": [],
   "source": [
    "sum'3 :: Num a => [a] -> a\n",
    "sum'3 = loop 0\n",
    " where loop acc []     = acc\n",
    "       loop acc (x:xs) = loop (x + acc) xs\n",
    "       \n",
    "sum'3 [1,4,3]      "
   ]
  },
  {
   "cell_type": "markdown",
   "metadata": {},
   "source": [
    "7. Zadania"
   ]
  },
  {
   "cell_type": "code",
   "execution_count": null,
   "metadata": {},
   "outputs": [],
   "source": [
    "-- 1\n",
    "prod'2 :: Num a => [a] -> a\n",
    "prod'2 [] = 0\n",
    "prod'2 xs = loop 1 xs\n",
    " where loop acc [] = acc\n",
    "       loop acc (x:xs) = loop (x*acc) xs\n",
    " \n",
    "prod'2 [3,3,2]"
   ]
  },
  {
   "cell_type": "code",
   "execution_count": null,
   "metadata": {},
   "outputs": [],
   "source": [
    "length'2 :: [a] -> Int\n",
    "length'2 = loop 0\n",
    " where loop acc [] = acc\n",
    "       loop acc (x:xs) = loop (acc + 1) xs\n",
    "       \n",
    "length'2 [1,2,3,4]"
   ]
  },
  {
   "cell_type": "markdown",
   "metadata": {},
   "source": [
    "---------"
   ]
  },
  {
   "cell_type": "code",
   "execution_count": null,
   "metadata": {},
   "outputs": [],
   "source": [
    "isOdd :: (Ord a, Num a) => a -> Bool\n",
    "isOdd n | n <= 0    = False\n",
    "        | otherwise = isEven (n-1)\n",
    "\n",
    "isEven :: (Ord a, Num a) => a -> Bool\n",
    "isEven n | n < 0     = False\n",
    "         | n == 0    = True\n",
    "         | otherwise = isOdd (n-1)\n",
    "\n",
    "ackerFun m n\n",
    " | m == 0    = n + 1\n",
    " | n == 0    = ackerFun (m - 1) 1\n",
    " | otherwise = ackerFun (m - 1) (ackerFun m (n - 1))\n",
    "\n",
    "isEven 10000000"
   ]
  },
  {
   "cell_type": "code",
   "execution_count": null,
   "metadata": {},
   "outputs": [],
   "source": [
    "qSort :: Ord a => [a] -> [a]\n",
    "qSort []     = []\n",
    "qSort (x:xs) = qSort (leftPart xs) ++ [x] ++ qSort (rightPart xs)\n",
    " where\n",
    "   leftPart  xs = [ y | y <- xs, y <= x ]\n",
    "   rightPart xs = [ y | y <- xs, y > x  ]\n",
    "\n",
    "qSort [3,12,2,1,231,3,-453,5,0]"
   ]
  },
  {
   "cell_type": "markdown",
   "metadata": {},
   "source": [
    "9. Zadania"
   ]
  },
  {
   "cell_type": "code",
   "execution_count": null,
   "metadata": {},
   "outputs": [],
   "source": [
    "qSort :: Ord a => [a] -> [a]\n",
    "qSort []     = []\n",
    "qSort (x:xs) = qSort (leftPart xs) ++ [x] ++ qSort (rightPart xs)\n",
    " where\n",
    "   leftPart  = filter (<= x)\n",
    "   rightPart = filter (> x) \n",
    "\n",
    "qSort [3,12,2,1,231,3,-453,5,0]"
   ]
  },
  {
   "cell_type": "code",
   "execution_count": null,
   "metadata": {},
   "outputs": [],
   "source": [
    "mSort :: Ord a => [a] ->[a]\n",
    "mSort [] = []\n",
    "mSort [a] = [a]\n",
    "mSort xs = merge (mSort (fsthalf xs))  (mSort (scndhalf xs)) \n",
    "    where fsthalf xs= take (length xs `div` 2) xs\n",
    "          scndhalf xs= drop (length xs `div` 2) xs\n",
    "          merge [] xs = xs\n",
    "          merge xs [] = xs\n",
    "          merge (x:xs) (y:ys) = if x < y \n",
    "                                then x: merge xs (y:ys)\n",
    "                                else y: merge (x:xs) ys\n",
    "\n",
    "       \n",
    "mSort [3,12,2,1,231,3,-453,5,0]"
   ]
  },
  {
   "cell_type": "code",
   "execution_count": null,
   "metadata": {},
   "outputs": [],
   "source": [
    "concat'' :: [[a]] -> [a]\n",
    "concat'' [] = []\n",
    "concat'' ([] : xs) = concat'' xs\n",
    "concat'' ((x:xs):vs)  =  x: concat'' (xs:vs)\n",
    " \n",
    "concat'' [[1,2],[3,4,7],[5,6]]"
   ]
  },
  {
   "cell_type": "code",
   "execution_count": null,
   "metadata": {},
   "outputs": [],
   "source": [
    "isSorted :: [Int] -> Bool -- isSorted [1,2,2,3] = True\n",
    "isSorted [] = True\n",
    "isSorted [a] = True\n",
    "isSorted (a:b:xs) = (a <= b) && isSorted (b:xs)\n",
    "isSorted [1,2,2,3,1]"
   ]
  },
  {
   "cell_type": "code",
   "execution_count": null,
   "metadata": {},
   "outputs": [],
   "source": [
    "reverse' :: [a] -> [a] -- reverse [1,2,3] = [3,2,1]\n",
    "reverse' [a] = [a]\n",
    "reverse' [] = []\n",
    "reverse' xs = last xs : reverse (init xs)\n",
    "reverse [1,2,3]"
   ]
  },
  {
   "cell_type": "code",
   "execution_count": null,
   "metadata": {},
   "outputs": [],
   "source": [
    "subList :: Eq a => [a] -> [a] -> Bool -- subList [1,2] [3,1,2,4] = True\n",
    "subList [] [] = True\n",
    "subList xs [] = False\n",
    "subList [] xy = True\n",
    "subList xs xy =  listinlist xs xy || subList xs (tail xy)\n",
    "                    where listinlist [] [] = True\n",
    "                          listinlist [] xy = True\n",
    "                          listinlist xs [] = False\n",
    "                          listinlist xs xy = if head xs == head xy\n",
    "                                             then listinlist (tail xs) (tail xy)\n",
    "                                             else False\n",
    "subList [1,2] [3,1,2,4]"
   ]
  },
  {
   "cell_type": "markdown",
   "metadata": {},
   "source": [
    "-----------------"
   ]
  },
  {
   "cell_type": "code",
   "execution_count": null,
   "metadata": {},
   "outputs": [],
   "source": [
    "fst2Eq :: Eq a => [a] -> Bool\n",
    "fst2Eq (x : y : _) | x == y = True\n",
    "fst2Eq _                    = False"
   ]
  },
  {
   "cell_type": "markdown",
   "metadata": {},
   "source": [
    "10. Zadania"
   ]
  },
  {
   "cell_type": "code",
   "execution_count": null,
   "metadata": {},
   "outputs": [],
   "source": [
    "-- 1 Napisać definicję funkcji sprawdzającej, czy pierwszy element listy jest podzielnikiem drugiego\n",
    "fstDivSec ::  Integral a => [a] -> Bool\n",
    "fstDivSec (x : y : _) | y `mod` x == 0 = True\n",
    "fstDivSec _                            = False\n",
    "\n",
    "fstDivSec [2,4]\n",
    "fstDivSec [4,2]"
   ]
  },
  {
   "cell_type": "code",
   "execution_count": null,
   "metadata": {},
   "outputs": [],
   "source": [
    "-- 2 (opcjonalne) Napisać definicję funkcji sprawdzającej, czy pierwszy element listy jest podzielnikiem trzeciego\n",
    "fstDivTrd :: Integral a => [a] -> Bool\n",
    "fstDivTrd (x : z : y : _) | y `mod` x == 0 = True\n",
    "fstDivTrd _                            = False\n",
    "\n",
    "fstDivTrd [3,8,9]\n",
    "fstDivTrd [4,5,6]"
   ]
  }
 ],
 "metadata": {
  "kernelspec": {
   "display_name": "Haskell",
   "language": "haskell",
   "name": "haskell"
  },
  "language_info": {
   "codemirror_mode": "ihaskell",
   "file_extension": ".hs",
   "mimetype": "text/x-haskell",
   "name": "haskell",
   "pygments_lexer": "Haskell",
   "version": "8.6.5"
  }
 },
 "nbformat": 4,
 "nbformat_minor": 4
}
