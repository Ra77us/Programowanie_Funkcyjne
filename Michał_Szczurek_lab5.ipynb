{
 "cells": [
  {
   "cell_type": "markdown",
   "metadata": {},
   "source": [
    "Zadania na lab 5 Michał Szczurek"
   ]
  },
  {
   "cell_type": "markdown",
   "metadata": {},
   "source": [
    "Na tych laboratoriach polecenia zrealizowałem w ghci zamiast notebooka, ze względu na konieczność wykorzystania IO"
   ]
  },
  {
   "cell_type": "markdown",
   "metadata": {},
   "source": [
    "Poniżej zamieszczam kod plików, które stworzyłem podczas przerabiania skryptu"
   ]
  },
  {
   "cell_type": "markdown",
   "metadata": {},
   "source": [
    "ex2.hs"
   ]
  },
  {
   "cell_type": "code",
   "execution_count": null,
   "metadata": {},
   "outputs": [],
   "source": [
    "actSeq = putChar 'A' >> putChar 'G' >> putChar 'H' >>  putChar '\\n'\n",
    "\n",
    "doActSeq = do\n",
    "  putChar 'A'\n",
    "  putChar 'G'\n",
    "  putChar 'H'\n",
    "  putChar '\\n'\n",
    "\n",
    "echo1 = getLine >>= putStrLn\n",
    "\n",
    "doEcho1 = do\n",
    "  line <- getLine\n",
    "  putStrLn line\n",
    "\n",
    "echo2 = getLine >>= \\line -> putStrLn $ line ++ \"!\"\n",
    "\n",
    "doEcho2 = do\n",
    "  line <- getLine\n",
    "  putStrLn $ line ++ \"!\"\n",
    "\n",
    "echo3 :: IO ()\n",
    "echo3 =  getLine >>= \\l1 -> getLine >>= \\l2 -> putStrLn $ l1 ++ l2\n",
    "\n",
    "dialog :: IO ()\n",
    "dialog = putStr \"What is your happy number? \"\n",
    "         >> getLine\n",
    "         >>= \\n -> let num = read n :: Int in\n",
    "                   if num == 7\n",
    "                   then putStrLn \"Ah, lucky 7!\"\n",
    "                   else if odd num\n",
    "                        then putStrLn \"Odd number! That's most people's choice...\"\n",
    "                        else putStrLn \"Hm, even number? Unusual!\"\n",
    "\n",
    "\n",
    "doEcho3 = do\n",
    "  line1 <- getLine\n",
    "  line2 <- getLine\n",
    "  putStrLn (line1 ++ line2)\n",
    "\n",
    "\n",
    "doDialog :: IO ()\n",
    "doDialog = do\n",
    "    putStr \"What is your happy number? \"\n",
    "        line <- getLine\n",
    "        let num = read line :: Int in\n",
    "                   if num == 7\n",
    "                   then putStrLn \"Ah, lucky 7!\"\n",
    "                   else if odd num\n",
    "                        then putStrLn \"Odd number! That's most people's choice...\"\n",
    "                        else putStrLn \"Hm, even number? Unusual!\"\n",
    "\n",
    "\n",
    "twoQuestions :: IO ()\n",
    "twoQuestions = do\n",
    "  putStr \"What is your name? \"\n",
    "  name <- getLine\n",
    "  putStr \"How old are you? \"\n",
    "  age <- getLine\n",
    "  print (name,age)\n",
    "\n",
    "twoQ :: IO ()\n",
    "twoQ = putStr \"What is your name? \"\n",
    " >> getLine\n",
    " >>= \\n -> let name = read n :: String in\n",
    " putStr \"How old are you? \"\n",
    " >> getLine\n",
    " >>= \\n -> let age = read n :: Int in\n",
    " print (name, age)"
   ]
  },
  {
   "cell_type": "markdown",
   "metadata": {},
   "source": [
    "ex6.hs"
   ]
  },
  {
   "cell_type": "code",
   "execution_count": null,
   "metadata": {},
   "outputs": [],
   "source": [
    "{-# LANGUAGE DeriveFunctor #-}\n",
    "\n",
    "newtype Box a = MkBox a deriving (Show, Functor)\n",
    "\n",
    "--instance Functor Box where\n",
    "--fmap f (MkBox x) = MkBox (f x)\n",
    "\n",
    "\n",
    "\n",
    "data MyList a = EmptyList\n",
    "              | Cons a (MyList a) deriving (Show, Functor)\n",
    "\n",
    "--instance Functor MyList where\n",
    "--  fmap _ EmptyList    = EmptyList\n",
    "--  fmap f (Cons x mxs) = Cons (f x) (fmap f mxs)\n",
    "\n",
    "\n",
    "data BinTree a = EmptyBT | NodeBT a (BinTree a) (BinTree a) deriving (Show, Functor)\n",
    "\n",
    "--instance Functor BinTree where\n",
    "-- fmap _ EmptyBT    = EmptyBT \n",
    "-- fmap f (NodeBT a left right) =  NodeBT (f a) (fmap f left) (fmap f right"
   ]
  },
  {
   "cell_type": "markdown",
   "metadata": {},
   "source": [
    "ex7.hs"
   ]
  },
  {
   "cell_type": "code",
   "execution_count": null,
   "metadata": {},
   "outputs": [],
   "source": [
    "newtype Box a = MkBox a deriving Show\n",
    "\n",
    "instance Functor Box where\n",
    "  fmap f (MkBox x) = MkBox (f x)\n",
    "\n",
    "instance Applicative Box where\n",
    "  pure = MkBox\n",
    "  (MkBox f) <*> w = fmap f w\n",
    "\n",
    "newtype MyTriple a = MyTriple (a,a,a) deriving Show\n",
    "\n",
    "instance Functor MyTriple where\n",
    "  fmap f (MyTriple (a,b,c)) = MyTriple (f a, f b, f c)\n",
    "\n",
    "instance Applicative MyTriple where\n",
    "  pure x = MyTriple (x, x, x)\n",
    "  MyTriple (f, g, h) <*> MyTriple (a, b, c) = MyTriple (f a, g b, h c)"
   ]
  }
 ],
 "metadata": {
  "kernelspec": {
   "display_name": "Haskell",
   "language": "haskell",
   "name": "haskell"
  },
  "language_info": {
   "codemirror_mode": "ihaskell",
   "file_extension": ".hs",
   "mimetype": "text/x-haskell",
   "name": "haskell",
   "pygments_lexer": "Haskell",
   "version": "8.6.5"
  }
 },
 "nbformat": 4,
 "nbformat_minor": 4
}
